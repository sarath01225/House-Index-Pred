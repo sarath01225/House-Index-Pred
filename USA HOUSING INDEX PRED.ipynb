{
 "cells": [
  {
   "cell_type": "code",
   "execution_count": 1,
   "id": "99e681fb",
   "metadata": {},
   "outputs": [],
   "source": [
    "import numpy as np\n",
    "import pandas as pd\n",
    "import seaborn as sns\n",
    "import matplotlib.pyplot as plt"
   ]
  },
  {
   "cell_type": "markdown",
   "id": "ba1ce536",
   "metadata": {},
   "source": [
    "# Consumer sentiment"
   ]
  },
  {
   "cell_type": "code",
   "execution_count": 2,
   "id": "de16607b",
   "metadata": {},
   "outputs": [],
   "source": [
    "df1 = pd.read_csv('UMCSENT.csv')"
   ]
  },
  {
   "cell_type": "code",
   "execution_count": 3,
   "id": "c4c251f2",
   "metadata": {},
   "outputs": [
    {
     "data": {
      "text/html": [
       "<div>\n",
       "<style scoped>\n",
       "    .dataframe tbody tr th:only-of-type {\n",
       "        vertical-align: middle;\n",
       "    }\n",
       "\n",
       "    .dataframe tbody tr th {\n",
       "        vertical-align: top;\n",
       "    }\n",
       "\n",
       "    .dataframe thead th {\n",
       "        text-align: right;\n",
       "    }\n",
       "</style>\n",
       "<table border=\"1\" class=\"dataframe\">\n",
       "  <thead>\n",
       "    <tr style=\"text-align: right;\">\n",
       "      <th></th>\n",
       "      <th>DATE</th>\n",
       "      <th>UMCSENT</th>\n",
       "    </tr>\n",
       "  </thead>\n",
       "  <tbody>\n",
       "    <tr>\n",
       "      <th>0</th>\n",
       "      <td>1983-11-01</td>\n",
       "      <td>91.1</td>\n",
       "    </tr>\n",
       "    <tr>\n",
       "      <th>1</th>\n",
       "      <td>1983-12-01</td>\n",
       "      <td>94.2</td>\n",
       "    </tr>\n",
       "    <tr>\n",
       "      <th>2</th>\n",
       "      <td>1984-01-01</td>\n",
       "      <td>100.1</td>\n",
       "    </tr>\n",
       "    <tr>\n",
       "      <th>3</th>\n",
       "      <td>1984-02-01</td>\n",
       "      <td>97.4</td>\n",
       "    </tr>\n",
       "    <tr>\n",
       "      <th>4</th>\n",
       "      <td>1984-03-01</td>\n",
       "      <td>101.0</td>\n",
       "    </tr>\n",
       "    <tr>\n",
       "      <th>...</th>\n",
       "      <td>...</td>\n",
       "      <td>...</td>\n",
       "    </tr>\n",
       "    <tr>\n",
       "      <th>466</th>\n",
       "      <td>2022-09-01</td>\n",
       "      <td>58.6</td>\n",
       "    </tr>\n",
       "    <tr>\n",
       "      <th>467</th>\n",
       "      <td>2022-10-01</td>\n",
       "      <td>59.9</td>\n",
       "    </tr>\n",
       "    <tr>\n",
       "      <th>468</th>\n",
       "      <td>2022-11-01</td>\n",
       "      <td>56.7</td>\n",
       "    </tr>\n",
       "    <tr>\n",
       "      <th>469</th>\n",
       "      <td>2022-12-01</td>\n",
       "      <td>59.8</td>\n",
       "    </tr>\n",
       "    <tr>\n",
       "      <th>470</th>\n",
       "      <td>2023-01-01</td>\n",
       "      <td>64.9</td>\n",
       "    </tr>\n",
       "  </tbody>\n",
       "</table>\n",
       "<p>471 rows × 2 columns</p>\n",
       "</div>"
      ],
      "text/plain": [
       "           DATE  UMCSENT\n",
       "0    1983-11-01     91.1\n",
       "1    1983-12-01     94.2\n",
       "2    1984-01-01    100.1\n",
       "3    1984-02-01     97.4\n",
       "4    1984-03-01    101.0\n",
       "..          ...      ...\n",
       "466  2022-09-01     58.6\n",
       "467  2022-10-01     59.9\n",
       "468  2022-11-01     56.7\n",
       "469  2022-12-01     59.8\n",
       "470  2023-01-01     64.9\n",
       "\n",
       "[471 rows x 2 columns]"
      ]
     },
     "execution_count": 3,
     "metadata": {},
     "output_type": "execute_result"
    }
   ],
   "source": [
    "df1"
   ]
  },
  {
   "cell_type": "code",
   "execution_count": 4,
   "id": "16a3a2c6",
   "metadata": {},
   "outputs": [
    {
     "name": "stdout",
     "output_type": "stream",
     "text": [
      "<class 'pandas.core.frame.DataFrame'>\n",
      "RangeIndex: 471 entries, 0 to 470\n",
      "Data columns (total 2 columns):\n",
      " #   Column   Non-Null Count  Dtype  \n",
      "---  ------   --------------  -----  \n",
      " 0   DATE     471 non-null    object \n",
      " 1   UMCSENT  471 non-null    float64\n",
      "dtypes: float64(1), object(1)\n",
      "memory usage: 7.5+ KB\n"
     ]
    }
   ],
   "source": [
    "df1.info()"
   ]
  },
  {
   "cell_type": "code",
   "execution_count": 5,
   "id": "e580b0cf",
   "metadata": {},
   "outputs": [
    {
     "data": {
      "text/plain": [
       "DATE       0\n",
       "UMCSENT    0\n",
       "dtype: int64"
      ]
     },
     "execution_count": 5,
     "metadata": {},
     "output_type": "execute_result"
    }
   ],
   "source": [
    "df1.isna().sum()"
   ]
  },
  {
   "cell_type": "code",
   "execution_count": 6,
   "id": "1d39b128",
   "metadata": {},
   "outputs": [],
   "source": [
    "df1.set_index('DATE', inplace =True)"
   ]
  },
  {
   "cell_type": "code",
   "execution_count": 7,
   "id": "587b791e",
   "metadata": {},
   "outputs": [],
   "source": [
    "df1.index = pd.to_datetime(df1.index)"
   ]
  },
  {
   "cell_type": "code",
   "execution_count": 8,
   "id": "3a44687e",
   "metadata": {},
   "outputs": [],
   "source": [
    "df1 = df1[\"1987-01-01\":\"2023-01-01\"]"
   ]
  },
  {
   "cell_type": "code",
   "execution_count": 9,
   "id": "024a4f22",
   "metadata": {},
   "outputs": [
    {
     "name": "stdout",
     "output_type": "stream",
     "text": [
      "<class 'pandas.core.frame.DataFrame'>\n",
      "DatetimeIndex: 433 entries, 1987-01-01 to 2023-01-01\n",
      "Data columns (total 1 columns):\n",
      " #   Column   Non-Null Count  Dtype  \n",
      "---  ------   --------------  -----  \n",
      " 0   UMCSENT  433 non-null    float64\n",
      "dtypes: float64(1)\n",
      "memory usage: 6.8 KB\n"
     ]
    }
   ],
   "source": [
    "df1.info()"
   ]
  },
  {
   "cell_type": "code",
   "execution_count": 10,
   "id": "94f7b256",
   "metadata": {},
   "outputs": [
    {
     "data": {
      "text/html": [
       "<div>\n",
       "<style scoped>\n",
       "    .dataframe tbody tr th:only-of-type {\n",
       "        vertical-align: middle;\n",
       "    }\n",
       "\n",
       "    .dataframe tbody tr th {\n",
       "        vertical-align: top;\n",
       "    }\n",
       "\n",
       "    .dataframe thead th {\n",
       "        text-align: right;\n",
       "    }\n",
       "</style>\n",
       "<table border=\"1\" class=\"dataframe\">\n",
       "  <thead>\n",
       "    <tr style=\"text-align: right;\">\n",
       "      <th></th>\n",
       "      <th>UMCSENT</th>\n",
       "    </tr>\n",
       "    <tr>\n",
       "      <th>DATE</th>\n",
       "      <th></th>\n",
       "    </tr>\n",
       "  </thead>\n",
       "  <tbody>\n",
       "    <tr>\n",
       "      <th>1987-01-01</th>\n",
       "      <td>90.4</td>\n",
       "    </tr>\n",
       "    <tr>\n",
       "      <th>1987-02-01</th>\n",
       "      <td>90.2</td>\n",
       "    </tr>\n",
       "    <tr>\n",
       "      <th>1987-03-01</th>\n",
       "      <td>90.8</td>\n",
       "    </tr>\n",
       "    <tr>\n",
       "      <th>1987-04-01</th>\n",
       "      <td>92.8</td>\n",
       "    </tr>\n",
       "    <tr>\n",
       "      <th>1987-05-01</th>\n",
       "      <td>91.1</td>\n",
       "    </tr>\n",
       "  </tbody>\n",
       "</table>\n",
       "</div>"
      ],
      "text/plain": [
       "            UMCSENT\n",
       "DATE               \n",
       "1987-01-01     90.4\n",
       "1987-02-01     90.2\n",
       "1987-03-01     90.8\n",
       "1987-04-01     92.8\n",
       "1987-05-01     91.1"
      ]
     },
     "execution_count": 10,
     "metadata": {},
     "output_type": "execute_result"
    }
   ],
   "source": [
    "df1.head()"
   ]
  },
  {
   "cell_type": "code",
   "execution_count": 11,
   "id": "6f45ca9b",
   "metadata": {},
   "outputs": [
    {
     "data": {
      "text/plain": [
       "(433, 1)"
      ]
     },
     "execution_count": 11,
     "metadata": {},
     "output_type": "execute_result"
    }
   ],
   "source": [
    "df1.shape"
   ]
  },
  {
   "cell_type": "markdown",
   "id": "0acd7c75",
   "metadata": {},
   "source": [
    "# Unemployment Rate"
   ]
  },
  {
   "cell_type": "code",
   "execution_count": 12,
   "id": "bc66206b",
   "metadata": {},
   "outputs": [],
   "source": [
    "df2 = pd.read_csv('UNRATE.csv')"
   ]
  },
  {
   "cell_type": "code",
   "execution_count": 13,
   "id": "a7702ff1",
   "metadata": {},
   "outputs": [
    {
     "name": "stdout",
     "output_type": "stream",
     "text": [
      "<class 'pandas.core.frame.DataFrame'>\n",
      "RangeIndex: 481 entries, 0 to 480\n",
      "Data columns (total 2 columns):\n",
      " #   Column  Non-Null Count  Dtype  \n",
      "---  ------  --------------  -----  \n",
      " 0   DATE    481 non-null    object \n",
      " 1   UNRATE  481 non-null    float64\n",
      "dtypes: float64(1), object(1)\n",
      "memory usage: 7.6+ KB\n"
     ]
    }
   ],
   "source": [
    "df2.info()"
   ]
  },
  {
   "cell_type": "code",
   "execution_count": 14,
   "id": "4c183ba5",
   "metadata": {},
   "outputs": [],
   "source": [
    "df2.set_index('DATE',inplace=True)"
   ]
  },
  {
   "cell_type": "code",
   "execution_count": 15,
   "id": "2f12934c",
   "metadata": {},
   "outputs": [],
   "source": [
    "df2.index = pd.to_datetime(df2.index)"
   ]
  },
  {
   "cell_type": "code",
   "execution_count": 16,
   "id": "40bcf908",
   "metadata": {},
   "outputs": [],
   "source": [
    "df2 = df2[\"1987-01-01\":\"2023-01-01\"]"
   ]
  },
  {
   "cell_type": "code",
   "execution_count": 17,
   "id": "000de52a",
   "metadata": {},
   "outputs": [
    {
     "data": {
      "text/html": [
       "<div>\n",
       "<style scoped>\n",
       "    .dataframe tbody tr th:only-of-type {\n",
       "        vertical-align: middle;\n",
       "    }\n",
       "\n",
       "    .dataframe tbody tr th {\n",
       "        vertical-align: top;\n",
       "    }\n",
       "\n",
       "    .dataframe thead th {\n",
       "        text-align: right;\n",
       "    }\n",
       "</style>\n",
       "<table border=\"1\" class=\"dataframe\">\n",
       "  <thead>\n",
       "    <tr style=\"text-align: right;\">\n",
       "      <th></th>\n",
       "      <th>UNRATE</th>\n",
       "    </tr>\n",
       "    <tr>\n",
       "      <th>DATE</th>\n",
       "      <th></th>\n",
       "    </tr>\n",
       "  </thead>\n",
       "  <tbody>\n",
       "    <tr>\n",
       "      <th>1987-01-01</th>\n",
       "      <td>6.6</td>\n",
       "    </tr>\n",
       "    <tr>\n",
       "      <th>1987-02-01</th>\n",
       "      <td>6.6</td>\n",
       "    </tr>\n",
       "    <tr>\n",
       "      <th>1987-03-01</th>\n",
       "      <td>6.6</td>\n",
       "    </tr>\n",
       "    <tr>\n",
       "      <th>1987-04-01</th>\n",
       "      <td>6.3</td>\n",
       "    </tr>\n",
       "    <tr>\n",
       "      <th>1987-05-01</th>\n",
       "      <td>6.3</td>\n",
       "    </tr>\n",
       "    <tr>\n",
       "      <th>...</th>\n",
       "      <td>...</td>\n",
       "    </tr>\n",
       "    <tr>\n",
       "      <th>2022-09-01</th>\n",
       "      <td>3.5</td>\n",
       "    </tr>\n",
       "    <tr>\n",
       "      <th>2022-10-01</th>\n",
       "      <td>3.7</td>\n",
       "    </tr>\n",
       "    <tr>\n",
       "      <th>2022-11-01</th>\n",
       "      <td>3.6</td>\n",
       "    </tr>\n",
       "    <tr>\n",
       "      <th>2022-12-01</th>\n",
       "      <td>3.5</td>\n",
       "    </tr>\n",
       "    <tr>\n",
       "      <th>2023-01-01</th>\n",
       "      <td>3.4</td>\n",
       "    </tr>\n",
       "  </tbody>\n",
       "</table>\n",
       "<p>433 rows × 1 columns</p>\n",
       "</div>"
      ],
      "text/plain": [
       "            UNRATE\n",
       "DATE              \n",
       "1987-01-01     6.6\n",
       "1987-02-01     6.6\n",
       "1987-03-01     6.6\n",
       "1987-04-01     6.3\n",
       "1987-05-01     6.3\n",
       "...            ...\n",
       "2022-09-01     3.5\n",
       "2022-10-01     3.7\n",
       "2022-11-01     3.6\n",
       "2022-12-01     3.5\n",
       "2023-01-01     3.4\n",
       "\n",
       "[433 rows x 1 columns]"
      ]
     },
     "execution_count": 17,
     "metadata": {},
     "output_type": "execute_result"
    }
   ],
   "source": [
    "df2"
   ]
  },
  {
   "cell_type": "code",
   "execution_count": 18,
   "id": "57e048fb",
   "metadata": {},
   "outputs": [
    {
     "data": {
      "text/plain": [
       "UNRATE    0\n",
       "dtype: int64"
      ]
     },
     "execution_count": 18,
     "metadata": {},
     "output_type": "execute_result"
    }
   ],
   "source": [
    "df2.isna().sum()"
   ]
  },
  {
   "cell_type": "markdown",
   "id": "5a84112a",
   "metadata": {},
   "source": [
    "# Population"
   ]
  },
  {
   "cell_type": "code",
   "execution_count": 19,
   "id": "d1ea10c3",
   "metadata": {},
   "outputs": [],
   "source": [
    "df3 = pd.read_csv('POP.csv')"
   ]
  },
  {
   "cell_type": "code",
   "execution_count": 20,
   "id": "20b2f661",
   "metadata": {},
   "outputs": [
    {
     "data": {
      "text/html": [
       "<div>\n",
       "<style scoped>\n",
       "    .dataframe tbody tr th:only-of-type {\n",
       "        vertical-align: middle;\n",
       "    }\n",
       "\n",
       "    .dataframe tbody tr th {\n",
       "        vertical-align: top;\n",
       "    }\n",
       "\n",
       "    .dataframe thead th {\n",
       "        text-align: right;\n",
       "    }\n",
       "</style>\n",
       "<table border=\"1\" class=\"dataframe\">\n",
       "  <thead>\n",
       "    <tr style=\"text-align: right;\">\n",
       "      <th></th>\n",
       "      <th>DATE</th>\n",
       "      <th>POP</th>\n",
       "    </tr>\n",
       "  </thead>\n",
       "  <tbody>\n",
       "    <tr>\n",
       "      <th>0</th>\n",
       "      <td>1983-01-01</td>\n",
       "      <td>233322.000</td>\n",
       "    </tr>\n",
       "    <tr>\n",
       "      <th>1</th>\n",
       "      <td>1983-02-01</td>\n",
       "      <td>233473.000</td>\n",
       "    </tr>\n",
       "    <tr>\n",
       "      <th>2</th>\n",
       "      <td>1983-03-01</td>\n",
       "      <td>233613.000</td>\n",
       "    </tr>\n",
       "    <tr>\n",
       "      <th>3</th>\n",
       "      <td>1983-04-01</td>\n",
       "      <td>233781.000</td>\n",
       "    </tr>\n",
       "    <tr>\n",
       "      <th>4</th>\n",
       "      <td>1983-05-01</td>\n",
       "      <td>233922.000</td>\n",
       "    </tr>\n",
       "    <tr>\n",
       "      <th>...</th>\n",
       "      <td>...</td>\n",
       "      <td>...</td>\n",
       "    </tr>\n",
       "    <tr>\n",
       "      <th>476</th>\n",
       "      <td>2022-09-01</td>\n",
       "      <td>333887.159</td>\n",
       "    </tr>\n",
       "    <tr>\n",
       "      <th>477</th>\n",
       "      <td>2022-10-01</td>\n",
       "      <td>334064.228</td>\n",
       "    </tr>\n",
       "    <tr>\n",
       "      <th>478</th>\n",
       "      <td>2022-11-01</td>\n",
       "      <td>334216.939</td>\n",
       "    </tr>\n",
       "    <tr>\n",
       "      <th>479</th>\n",
       "      <td>2022-12-01</td>\n",
       "      <td>334356.155</td>\n",
       "    </tr>\n",
       "    <tr>\n",
       "      <th>480</th>\n",
       "      <td>2023-01-01</td>\n",
       "      <td>334483.547</td>\n",
       "    </tr>\n",
       "  </tbody>\n",
       "</table>\n",
       "<p>481 rows × 2 columns</p>\n",
       "</div>"
      ],
      "text/plain": [
       "           DATE         POP\n",
       "0    1983-01-01  233322.000\n",
       "1    1983-02-01  233473.000\n",
       "2    1983-03-01  233613.000\n",
       "3    1983-04-01  233781.000\n",
       "4    1983-05-01  233922.000\n",
       "..          ...         ...\n",
       "476  2022-09-01  333887.159\n",
       "477  2022-10-01  334064.228\n",
       "478  2022-11-01  334216.939\n",
       "479  2022-12-01  334356.155\n",
       "480  2023-01-01  334483.547\n",
       "\n",
       "[481 rows x 2 columns]"
      ]
     },
     "execution_count": 20,
     "metadata": {},
     "output_type": "execute_result"
    }
   ],
   "source": [
    "df3"
   ]
  },
  {
   "cell_type": "code",
   "execution_count": 21,
   "id": "c3bf22cb",
   "metadata": {},
   "outputs": [
    {
     "name": "stdout",
     "output_type": "stream",
     "text": [
      "<class 'pandas.core.frame.DataFrame'>\n",
      "RangeIndex: 481 entries, 0 to 480\n",
      "Data columns (total 2 columns):\n",
      " #   Column  Non-Null Count  Dtype  \n",
      "---  ------  --------------  -----  \n",
      " 0   DATE    481 non-null    object \n",
      " 1   POP     481 non-null    float64\n",
      "dtypes: float64(1), object(1)\n",
      "memory usage: 7.6+ KB\n"
     ]
    }
   ],
   "source": [
    "df3.info()"
   ]
  },
  {
   "cell_type": "code",
   "execution_count": 22,
   "id": "4ce3c078",
   "metadata": {},
   "outputs": [],
   "source": [
    "df3.set_index('DATE',inplace=True)"
   ]
  },
  {
   "cell_type": "code",
   "execution_count": 23,
   "id": "bbd0026a",
   "metadata": {},
   "outputs": [],
   "source": [
    "df3.index = pd.to_datetime(df3.index)"
   ]
  },
  {
   "cell_type": "code",
   "execution_count": 24,
   "id": "83e53616",
   "metadata": {},
   "outputs": [],
   "source": [
    "df3 = df3[\"1987-01-01\":\"2023-01-01\"]"
   ]
  },
  {
   "cell_type": "code",
   "execution_count": 25,
   "id": "4d7a4307",
   "metadata": {},
   "outputs": [
    {
     "data": {
      "text/html": [
       "<div>\n",
       "<style scoped>\n",
       "    .dataframe tbody tr th:only-of-type {\n",
       "        vertical-align: middle;\n",
       "    }\n",
       "\n",
       "    .dataframe tbody tr th {\n",
       "        vertical-align: top;\n",
       "    }\n",
       "\n",
       "    .dataframe thead th {\n",
       "        text-align: right;\n",
       "    }\n",
       "</style>\n",
       "<table border=\"1\" class=\"dataframe\">\n",
       "  <thead>\n",
       "    <tr style=\"text-align: right;\">\n",
       "      <th></th>\n",
       "      <th>POP</th>\n",
       "    </tr>\n",
       "    <tr>\n",
       "      <th>DATE</th>\n",
       "      <th></th>\n",
       "    </tr>\n",
       "  </thead>\n",
       "  <tbody>\n",
       "    <tr>\n",
       "      <th>1987-01-01</th>\n",
       "      <td>241784.000</td>\n",
       "    </tr>\n",
       "    <tr>\n",
       "      <th>1987-02-01</th>\n",
       "      <td>241930.000</td>\n",
       "    </tr>\n",
       "    <tr>\n",
       "      <th>1987-03-01</th>\n",
       "      <td>242079.000</td>\n",
       "    </tr>\n",
       "    <tr>\n",
       "      <th>1987-04-01</th>\n",
       "      <td>242252.000</td>\n",
       "    </tr>\n",
       "    <tr>\n",
       "      <th>1987-05-01</th>\n",
       "      <td>242423.000</td>\n",
       "    </tr>\n",
       "    <tr>\n",
       "      <th>...</th>\n",
       "      <td>...</td>\n",
       "    </tr>\n",
       "    <tr>\n",
       "      <th>2022-09-01</th>\n",
       "      <td>333887.159</td>\n",
       "    </tr>\n",
       "    <tr>\n",
       "      <th>2022-10-01</th>\n",
       "      <td>334064.228</td>\n",
       "    </tr>\n",
       "    <tr>\n",
       "      <th>2022-11-01</th>\n",
       "      <td>334216.939</td>\n",
       "    </tr>\n",
       "    <tr>\n",
       "      <th>2022-12-01</th>\n",
       "      <td>334356.155</td>\n",
       "    </tr>\n",
       "    <tr>\n",
       "      <th>2023-01-01</th>\n",
       "      <td>334483.547</td>\n",
       "    </tr>\n",
       "  </tbody>\n",
       "</table>\n",
       "<p>433 rows × 1 columns</p>\n",
       "</div>"
      ],
      "text/plain": [
       "                   POP\n",
       "DATE                  \n",
       "1987-01-01  241784.000\n",
       "1987-02-01  241930.000\n",
       "1987-03-01  242079.000\n",
       "1987-04-01  242252.000\n",
       "1987-05-01  242423.000\n",
       "...                ...\n",
       "2022-09-01  333887.159\n",
       "2022-10-01  334064.228\n",
       "2022-11-01  334216.939\n",
       "2022-12-01  334356.155\n",
       "2023-01-01  334483.547\n",
       "\n",
       "[433 rows x 1 columns]"
      ]
     },
     "execution_count": 25,
     "metadata": {},
     "output_type": "execute_result"
    }
   ],
   "source": [
    "df3"
   ]
  },
  {
   "cell_type": "code",
   "execution_count": 26,
   "id": "04ffeaec",
   "metadata": {},
   "outputs": [
    {
     "data": {
      "text/plain": [
       "POP    0\n",
       "dtype: int64"
      ]
     },
     "execution_count": 26,
     "metadata": {},
     "output_type": "execute_result"
    }
   ],
   "source": [
    "df3.isna().sum()"
   ]
  },
  {
   "cell_type": "markdown",
   "id": "162fdc41",
   "metadata": {},
   "source": [
    "# New privately-owned housing units authorized in permit-issuing places"
   ]
  },
  {
   "cell_type": "code",
   "execution_count": 27,
   "id": "789c5163",
   "metadata": {},
   "outputs": [],
   "source": [
    "df4 = pd.read_csv('PERMIT.csv')"
   ]
  },
  {
   "cell_type": "code",
   "execution_count": 28,
   "id": "e6f940f4",
   "metadata": {},
   "outputs": [
    {
     "data": {
      "text/html": [
       "<div>\n",
       "<style scoped>\n",
       "    .dataframe tbody tr th:only-of-type {\n",
       "        vertical-align: middle;\n",
       "    }\n",
       "\n",
       "    .dataframe tbody tr th {\n",
       "        vertical-align: top;\n",
       "    }\n",
       "\n",
       "    .dataframe thead th {\n",
       "        text-align: right;\n",
       "    }\n",
       "</style>\n",
       "<table border=\"1\" class=\"dataframe\">\n",
       "  <thead>\n",
       "    <tr style=\"text-align: right;\">\n",
       "      <th></th>\n",
       "      <th>DATE</th>\n",
       "      <th>PERMIT</th>\n",
       "    </tr>\n",
       "  </thead>\n",
       "  <tbody>\n",
       "    <tr>\n",
       "      <th>0</th>\n",
       "      <td>1983-01-01</td>\n",
       "      <td>1426.0</td>\n",
       "    </tr>\n",
       "    <tr>\n",
       "      <th>1</th>\n",
       "      <td>1983-02-01</td>\n",
       "      <td>1471.0</td>\n",
       "    </tr>\n",
       "    <tr>\n",
       "      <th>2</th>\n",
       "      <td>1983-03-01</td>\n",
       "      <td>1475.0</td>\n",
       "    </tr>\n",
       "    <tr>\n",
       "      <th>3</th>\n",
       "      <td>1983-04-01</td>\n",
       "      <td>1566.0</td>\n",
       "    </tr>\n",
       "    <tr>\n",
       "      <th>4</th>\n",
       "      <td>1983-05-01</td>\n",
       "      <td>1669.0</td>\n",
       "    </tr>\n",
       "    <tr>\n",
       "      <th>...</th>\n",
       "      <td>...</td>\n",
       "      <td>...</td>\n",
       "    </tr>\n",
       "    <tr>\n",
       "      <th>476</th>\n",
       "      <td>2022-09-01</td>\n",
       "      <td>1588.0</td>\n",
       "    </tr>\n",
       "    <tr>\n",
       "      <th>477</th>\n",
       "      <td>2022-10-01</td>\n",
       "      <td>1555.0</td>\n",
       "    </tr>\n",
       "    <tr>\n",
       "      <th>478</th>\n",
       "      <td>2022-11-01</td>\n",
       "      <td>1402.0</td>\n",
       "    </tr>\n",
       "    <tr>\n",
       "      <th>479</th>\n",
       "      <td>2022-12-01</td>\n",
       "      <td>1409.0</td>\n",
       "    </tr>\n",
       "    <tr>\n",
       "      <th>480</th>\n",
       "      <td>2023-01-01</td>\n",
       "      <td>1354.0</td>\n",
       "    </tr>\n",
       "  </tbody>\n",
       "</table>\n",
       "<p>481 rows × 2 columns</p>\n",
       "</div>"
      ],
      "text/plain": [
       "           DATE  PERMIT\n",
       "0    1983-01-01  1426.0\n",
       "1    1983-02-01  1471.0\n",
       "2    1983-03-01  1475.0\n",
       "3    1983-04-01  1566.0\n",
       "4    1983-05-01  1669.0\n",
       "..          ...     ...\n",
       "476  2022-09-01  1588.0\n",
       "477  2022-10-01  1555.0\n",
       "478  2022-11-01  1402.0\n",
       "479  2022-12-01  1409.0\n",
       "480  2023-01-01  1354.0\n",
       "\n",
       "[481 rows x 2 columns]"
      ]
     },
     "execution_count": 28,
     "metadata": {},
     "output_type": "execute_result"
    }
   ],
   "source": [
    "df4"
   ]
  },
  {
   "cell_type": "code",
   "execution_count": 29,
   "id": "358effa0",
   "metadata": {},
   "outputs": [
    {
     "name": "stdout",
     "output_type": "stream",
     "text": [
      "<class 'pandas.core.frame.DataFrame'>\n",
      "RangeIndex: 481 entries, 0 to 480\n",
      "Data columns (total 2 columns):\n",
      " #   Column  Non-Null Count  Dtype  \n",
      "---  ------  --------------  -----  \n",
      " 0   DATE    481 non-null    object \n",
      " 1   PERMIT  481 non-null    float64\n",
      "dtypes: float64(1), object(1)\n",
      "memory usage: 7.6+ KB\n"
     ]
    }
   ],
   "source": [
    "df4.info()"
   ]
  },
  {
   "cell_type": "code",
   "execution_count": 30,
   "id": "cf914d69",
   "metadata": {},
   "outputs": [],
   "source": [
    "df4.set_index('DATE',inplace=True)"
   ]
  },
  {
   "cell_type": "code",
   "execution_count": 31,
   "id": "bb5600c7",
   "metadata": {},
   "outputs": [],
   "source": [
    "df4.index = pd.to_datetime(df4.index)"
   ]
  },
  {
   "cell_type": "code",
   "execution_count": 32,
   "id": "52b72f00",
   "metadata": {},
   "outputs": [],
   "source": [
    "df4 = df4[\"1987-01-01\":\"2023-01-01\"]"
   ]
  },
  {
   "cell_type": "code",
   "execution_count": 33,
   "id": "db0fdfed",
   "metadata": {},
   "outputs": [
    {
     "data": {
      "text/html": [
       "<div>\n",
       "<style scoped>\n",
       "    .dataframe tbody tr th:only-of-type {\n",
       "        vertical-align: middle;\n",
       "    }\n",
       "\n",
       "    .dataframe tbody tr th {\n",
       "        vertical-align: top;\n",
       "    }\n",
       "\n",
       "    .dataframe thead th {\n",
       "        text-align: right;\n",
       "    }\n",
       "</style>\n",
       "<table border=\"1\" class=\"dataframe\">\n",
       "  <thead>\n",
       "    <tr style=\"text-align: right;\">\n",
       "      <th></th>\n",
       "      <th>PERMIT</th>\n",
       "    </tr>\n",
       "    <tr>\n",
       "      <th>DATE</th>\n",
       "      <th></th>\n",
       "    </tr>\n",
       "  </thead>\n",
       "  <tbody>\n",
       "    <tr>\n",
       "      <th>1987-01-01</th>\n",
       "      <td>1690.0</td>\n",
       "    </tr>\n",
       "    <tr>\n",
       "      <th>1987-02-01</th>\n",
       "      <td>1689.0</td>\n",
       "    </tr>\n",
       "    <tr>\n",
       "      <th>1987-03-01</th>\n",
       "      <td>1704.0</td>\n",
       "    </tr>\n",
       "    <tr>\n",
       "      <th>1987-04-01</th>\n",
       "      <td>1601.0</td>\n",
       "    </tr>\n",
       "    <tr>\n",
       "      <th>1987-05-01</th>\n",
       "      <td>1500.0</td>\n",
       "    </tr>\n",
       "    <tr>\n",
       "      <th>...</th>\n",
       "      <td>...</td>\n",
       "    </tr>\n",
       "    <tr>\n",
       "      <th>2022-09-01</th>\n",
       "      <td>1588.0</td>\n",
       "    </tr>\n",
       "    <tr>\n",
       "      <th>2022-10-01</th>\n",
       "      <td>1555.0</td>\n",
       "    </tr>\n",
       "    <tr>\n",
       "      <th>2022-11-01</th>\n",
       "      <td>1402.0</td>\n",
       "    </tr>\n",
       "    <tr>\n",
       "      <th>2022-12-01</th>\n",
       "      <td>1409.0</td>\n",
       "    </tr>\n",
       "    <tr>\n",
       "      <th>2023-01-01</th>\n",
       "      <td>1354.0</td>\n",
       "    </tr>\n",
       "  </tbody>\n",
       "</table>\n",
       "<p>433 rows × 1 columns</p>\n",
       "</div>"
      ],
      "text/plain": [
       "            PERMIT\n",
       "DATE              \n",
       "1987-01-01  1690.0\n",
       "1987-02-01  1689.0\n",
       "1987-03-01  1704.0\n",
       "1987-04-01  1601.0\n",
       "1987-05-01  1500.0\n",
       "...            ...\n",
       "2022-09-01  1588.0\n",
       "2022-10-01  1555.0\n",
       "2022-11-01  1402.0\n",
       "2022-12-01  1409.0\n",
       "2023-01-01  1354.0\n",
       "\n",
       "[433 rows x 1 columns]"
      ]
     },
     "execution_count": 33,
     "metadata": {},
     "output_type": "execute_result"
    }
   ],
   "source": [
    "df4"
   ]
  },
  {
   "cell_type": "code",
   "execution_count": 34,
   "id": "d9215a62",
   "metadata": {},
   "outputs": [
    {
     "data": {
      "text/plain": [
       "PERMIT    0\n",
       "dtype: int64"
      ]
     },
     "execution_count": 34,
     "metadata": {},
     "output_type": "execute_result"
    }
   ],
   "source": [
    "df4.isna().sum()"
   ]
  },
  {
   "cell_type": "markdown",
   "id": "9ea40755",
   "metadata": {},
   "source": [
    "# Monthly Supply of New Houses in the United States"
   ]
  },
  {
   "cell_type": "code",
   "execution_count": 35,
   "id": "a1f57b4b",
   "metadata": {},
   "outputs": [],
   "source": [
    "df5 = pd.read_csv('MSACSR.csv')"
   ]
  },
  {
   "cell_type": "code",
   "execution_count": 36,
   "id": "0160e7bd",
   "metadata": {},
   "outputs": [
    {
     "data": {
      "text/html": [
       "<div>\n",
       "<style scoped>\n",
       "    .dataframe tbody tr th:only-of-type {\n",
       "        vertical-align: middle;\n",
       "    }\n",
       "\n",
       "    .dataframe tbody tr th {\n",
       "        vertical-align: top;\n",
       "    }\n",
       "\n",
       "    .dataframe thead th {\n",
       "        text-align: right;\n",
       "    }\n",
       "</style>\n",
       "<table border=\"1\" class=\"dataframe\">\n",
       "  <thead>\n",
       "    <tr style=\"text-align: right;\">\n",
       "      <th></th>\n",
       "      <th>DATE</th>\n",
       "      <th>MSACSR</th>\n",
       "    </tr>\n",
       "  </thead>\n",
       "  <tbody>\n",
       "    <tr>\n",
       "      <th>0</th>\n",
       "      <td>1983-01-01</td>\n",
       "      <td>5.4</td>\n",
       "    </tr>\n",
       "    <tr>\n",
       "      <th>1</th>\n",
       "      <td>1983-02-01</td>\n",
       "      <td>5.6</td>\n",
       "    </tr>\n",
       "    <tr>\n",
       "      <th>2</th>\n",
       "      <td>1983-03-01</td>\n",
       "      <td>5.4</td>\n",
       "    </tr>\n",
       "    <tr>\n",
       "      <th>3</th>\n",
       "      <td>1983-04-01</td>\n",
       "      <td>5.1</td>\n",
       "    </tr>\n",
       "    <tr>\n",
       "      <th>4</th>\n",
       "      <td>1983-05-01</td>\n",
       "      <td>4.9</td>\n",
       "    </tr>\n",
       "    <tr>\n",
       "      <th>...</th>\n",
       "      <td>...</td>\n",
       "      <td>...</td>\n",
       "    </tr>\n",
       "    <tr>\n",
       "      <th>476</th>\n",
       "      <td>2022-09-01</td>\n",
       "      <td>9.7</td>\n",
       "    </tr>\n",
       "    <tr>\n",
       "      <th>477</th>\n",
       "      <td>2022-10-01</td>\n",
       "      <td>9.7</td>\n",
       "    </tr>\n",
       "    <tr>\n",
       "      <th>478</th>\n",
       "      <td>2022-11-01</td>\n",
       "      <td>9.4</td>\n",
       "    </tr>\n",
       "    <tr>\n",
       "      <th>479</th>\n",
       "      <td>2022-12-01</td>\n",
       "      <td>8.5</td>\n",
       "    </tr>\n",
       "    <tr>\n",
       "      <th>480</th>\n",
       "      <td>2023-01-01</td>\n",
       "      <td>8.1</td>\n",
       "    </tr>\n",
       "  </tbody>\n",
       "</table>\n",
       "<p>481 rows × 2 columns</p>\n",
       "</div>"
      ],
      "text/plain": [
       "           DATE  MSACSR\n",
       "0    1983-01-01     5.4\n",
       "1    1983-02-01     5.6\n",
       "2    1983-03-01     5.4\n",
       "3    1983-04-01     5.1\n",
       "4    1983-05-01     4.9\n",
       "..          ...     ...\n",
       "476  2022-09-01     9.7\n",
       "477  2022-10-01     9.7\n",
       "478  2022-11-01     9.4\n",
       "479  2022-12-01     8.5\n",
       "480  2023-01-01     8.1\n",
       "\n",
       "[481 rows x 2 columns]"
      ]
     },
     "execution_count": 36,
     "metadata": {},
     "output_type": "execute_result"
    }
   ],
   "source": [
    "df5"
   ]
  },
  {
   "cell_type": "code",
   "execution_count": 37,
   "id": "3cc3cb5b",
   "metadata": {},
   "outputs": [
    {
     "name": "stdout",
     "output_type": "stream",
     "text": [
      "<class 'pandas.core.frame.DataFrame'>\n",
      "RangeIndex: 481 entries, 0 to 480\n",
      "Data columns (total 2 columns):\n",
      " #   Column  Non-Null Count  Dtype  \n",
      "---  ------  --------------  -----  \n",
      " 0   DATE    481 non-null    object \n",
      " 1   MSACSR  481 non-null    float64\n",
      "dtypes: float64(1), object(1)\n",
      "memory usage: 7.6+ KB\n"
     ]
    }
   ],
   "source": [
    "df5.info()"
   ]
  },
  {
   "cell_type": "code",
   "execution_count": 38,
   "id": "e7b9319c",
   "metadata": {},
   "outputs": [],
   "source": [
    "df5.set_index('DATE',inplace=True)"
   ]
  },
  {
   "cell_type": "code",
   "execution_count": 39,
   "id": "4a06883a",
   "metadata": {},
   "outputs": [],
   "source": [
    "df5.index = pd.to_datetime(df5.index)"
   ]
  },
  {
   "cell_type": "code",
   "execution_count": 40,
   "id": "38f43074",
   "metadata": {},
   "outputs": [],
   "source": [
    "df5 = df5['1987-01-01':'2023-01-01'] "
   ]
  },
  {
   "cell_type": "code",
   "execution_count": 41,
   "id": "5d119cd5",
   "metadata": {},
   "outputs": [
    {
     "data": {
      "text/html": [
       "<div>\n",
       "<style scoped>\n",
       "    .dataframe tbody tr th:only-of-type {\n",
       "        vertical-align: middle;\n",
       "    }\n",
       "\n",
       "    .dataframe tbody tr th {\n",
       "        vertical-align: top;\n",
       "    }\n",
       "\n",
       "    .dataframe thead th {\n",
       "        text-align: right;\n",
       "    }\n",
       "</style>\n",
       "<table border=\"1\" class=\"dataframe\">\n",
       "  <thead>\n",
       "    <tr style=\"text-align: right;\">\n",
       "      <th></th>\n",
       "      <th>MSACSR</th>\n",
       "    </tr>\n",
       "    <tr>\n",
       "      <th>DATE</th>\n",
       "      <th></th>\n",
       "    </tr>\n",
       "  </thead>\n",
       "  <tbody>\n",
       "    <tr>\n",
       "      <th>1987-01-01</th>\n",
       "      <td>6.0</td>\n",
       "    </tr>\n",
       "    <tr>\n",
       "      <th>1987-02-01</th>\n",
       "      <td>6.2</td>\n",
       "    </tr>\n",
       "    <tr>\n",
       "      <th>1987-03-01</th>\n",
       "      <td>6.0</td>\n",
       "    </tr>\n",
       "    <tr>\n",
       "      <th>1987-04-01</th>\n",
       "      <td>6.0</td>\n",
       "    </tr>\n",
       "    <tr>\n",
       "      <th>1987-05-01</th>\n",
       "      <td>6.7</td>\n",
       "    </tr>\n",
       "    <tr>\n",
       "      <th>...</th>\n",
       "      <td>...</td>\n",
       "    </tr>\n",
       "    <tr>\n",
       "      <th>2022-09-01</th>\n",
       "      <td>9.7</td>\n",
       "    </tr>\n",
       "    <tr>\n",
       "      <th>2022-10-01</th>\n",
       "      <td>9.7</td>\n",
       "    </tr>\n",
       "    <tr>\n",
       "      <th>2022-11-01</th>\n",
       "      <td>9.4</td>\n",
       "    </tr>\n",
       "    <tr>\n",
       "      <th>2022-12-01</th>\n",
       "      <td>8.5</td>\n",
       "    </tr>\n",
       "    <tr>\n",
       "      <th>2023-01-01</th>\n",
       "      <td>8.1</td>\n",
       "    </tr>\n",
       "  </tbody>\n",
       "</table>\n",
       "<p>433 rows × 1 columns</p>\n",
       "</div>"
      ],
      "text/plain": [
       "            MSACSR\n",
       "DATE              \n",
       "1987-01-01     6.0\n",
       "1987-02-01     6.2\n",
       "1987-03-01     6.0\n",
       "1987-04-01     6.0\n",
       "1987-05-01     6.7\n",
       "...            ...\n",
       "2022-09-01     9.7\n",
       "2022-10-01     9.7\n",
       "2022-11-01     9.4\n",
       "2022-12-01     8.5\n",
       "2023-01-01     8.1\n",
       "\n",
       "[433 rows x 1 columns]"
      ]
     },
     "execution_count": 41,
     "metadata": {},
     "output_type": "execute_result"
    }
   ],
   "source": [
    "df5"
   ]
  },
  {
   "cell_type": "code",
   "execution_count": 42,
   "id": "336cb566",
   "metadata": {},
   "outputs": [
    {
     "data": {
      "text/plain": [
       "MSACSR    0\n",
       "dtype: int64"
      ]
     },
     "execution_count": 42,
     "metadata": {},
     "output_type": "execute_result"
    }
   ],
   "source": [
    "df5.isna().sum()"
   ]
  },
  {
   "cell_type": "markdown",
   "id": "ff443785",
   "metadata": {},
   "source": [
    "# Mortgage rates"
   ]
  },
  {
   "cell_type": "code",
   "execution_count": 43,
   "id": "0a9f8ce4",
   "metadata": {},
   "outputs": [],
   "source": [
    "df6 = pd.read_csv('MORTGAGE30US (1).csv')"
   ]
  },
  {
   "cell_type": "code",
   "execution_count": 44,
   "id": "626bb89e",
   "metadata": {},
   "outputs": [
    {
     "data": {
      "text/html": [
       "<div>\n",
       "<style scoped>\n",
       "    .dataframe tbody tr th:only-of-type {\n",
       "        vertical-align: middle;\n",
       "    }\n",
       "\n",
       "    .dataframe tbody tr th {\n",
       "        vertical-align: top;\n",
       "    }\n",
       "\n",
       "    .dataframe thead th {\n",
       "        text-align: right;\n",
       "    }\n",
       "</style>\n",
       "<table border=\"1\" class=\"dataframe\">\n",
       "  <thead>\n",
       "    <tr style=\"text-align: right;\">\n",
       "      <th></th>\n",
       "      <th>DATE</th>\n",
       "      <th>MORTGAGE30US</th>\n",
       "    </tr>\n",
       "  </thead>\n",
       "  <tbody>\n",
       "    <tr>\n",
       "      <th>0</th>\n",
       "      <td>1987-01-01</td>\n",
       "      <td>9.2040</td>\n",
       "    </tr>\n",
       "    <tr>\n",
       "      <th>1</th>\n",
       "      <td>1987-02-01</td>\n",
       "      <td>9.0825</td>\n",
       "    </tr>\n",
       "    <tr>\n",
       "      <th>2</th>\n",
       "      <td>1987-03-01</td>\n",
       "      <td>9.0350</td>\n",
       "    </tr>\n",
       "    <tr>\n",
       "      <th>3</th>\n",
       "      <td>1987-04-01</td>\n",
       "      <td>9.8325</td>\n",
       "    </tr>\n",
       "    <tr>\n",
       "      <th>4</th>\n",
       "      <td>1987-05-01</td>\n",
       "      <td>10.5960</td>\n",
       "    </tr>\n",
       "    <tr>\n",
       "      <th>...</th>\n",
       "      <td>...</td>\n",
       "      <td>...</td>\n",
       "    </tr>\n",
       "    <tr>\n",
       "      <th>435</th>\n",
       "      <td>2023-04-01</td>\n",
       "      <td>6.3425</td>\n",
       "    </tr>\n",
       "    <tr>\n",
       "      <th>436</th>\n",
       "      <td>2023-05-01</td>\n",
       "      <td>6.4250</td>\n",
       "    </tr>\n",
       "    <tr>\n",
       "      <th>437</th>\n",
       "      <td>2023-06-01</td>\n",
       "      <td>6.7140</td>\n",
       "    </tr>\n",
       "    <tr>\n",
       "      <th>438</th>\n",
       "      <td>2023-07-01</td>\n",
       "      <td>6.8400</td>\n",
       "    </tr>\n",
       "    <tr>\n",
       "      <th>439</th>\n",
       "      <td>2023-08-01</td>\n",
       "      <td>7.0720</td>\n",
       "    </tr>\n",
       "  </tbody>\n",
       "</table>\n",
       "<p>440 rows × 2 columns</p>\n",
       "</div>"
      ],
      "text/plain": [
       "           DATE  MORTGAGE30US\n",
       "0    1987-01-01        9.2040\n",
       "1    1987-02-01        9.0825\n",
       "2    1987-03-01        9.0350\n",
       "3    1987-04-01        9.8325\n",
       "4    1987-05-01       10.5960\n",
       "..          ...           ...\n",
       "435  2023-04-01        6.3425\n",
       "436  2023-05-01        6.4250\n",
       "437  2023-06-01        6.7140\n",
       "438  2023-07-01        6.8400\n",
       "439  2023-08-01        7.0720\n",
       "\n",
       "[440 rows x 2 columns]"
      ]
     },
     "execution_count": 44,
     "metadata": {},
     "output_type": "execute_result"
    }
   ],
   "source": [
    "df6"
   ]
  },
  {
   "cell_type": "code",
   "execution_count": 45,
   "id": "5b2eff12",
   "metadata": {},
   "outputs": [
    {
     "name": "stdout",
     "output_type": "stream",
     "text": [
      "<class 'pandas.core.frame.DataFrame'>\n",
      "RangeIndex: 440 entries, 0 to 439\n",
      "Data columns (total 2 columns):\n",
      " #   Column        Non-Null Count  Dtype  \n",
      "---  ------        --------------  -----  \n",
      " 0   DATE          440 non-null    object \n",
      " 1   MORTGAGE30US  440 non-null    float64\n",
      "dtypes: float64(1), object(1)\n",
      "memory usage: 7.0+ KB\n"
     ]
    }
   ],
   "source": [
    "df6.info()"
   ]
  },
  {
   "cell_type": "code",
   "execution_count": 46,
   "id": "261715bc",
   "metadata": {},
   "outputs": [],
   "source": [
    "df6.set_index('DATE',inplace=True)"
   ]
  },
  {
   "cell_type": "code",
   "execution_count": 47,
   "id": "5b81dc43",
   "metadata": {},
   "outputs": [],
   "source": [
    "df6.index = pd.to_datetime(df6.index)"
   ]
  },
  {
   "cell_type": "code",
   "execution_count": 48,
   "id": "4838c3ff",
   "metadata": {},
   "outputs": [],
   "source": [
    "df6 = df6['1987-01-01':'2023-01-01']"
   ]
  },
  {
   "cell_type": "code",
   "execution_count": 49,
   "id": "9e1814ed",
   "metadata": {},
   "outputs": [
    {
     "data": {
      "text/html": [
       "<div>\n",
       "<style scoped>\n",
       "    .dataframe tbody tr th:only-of-type {\n",
       "        vertical-align: middle;\n",
       "    }\n",
       "\n",
       "    .dataframe tbody tr th {\n",
       "        vertical-align: top;\n",
       "    }\n",
       "\n",
       "    .dataframe thead th {\n",
       "        text-align: right;\n",
       "    }\n",
       "</style>\n",
       "<table border=\"1\" class=\"dataframe\">\n",
       "  <thead>\n",
       "    <tr style=\"text-align: right;\">\n",
       "      <th></th>\n",
       "      <th>MORTGAGE30US</th>\n",
       "    </tr>\n",
       "    <tr>\n",
       "      <th>DATE</th>\n",
       "      <th></th>\n",
       "    </tr>\n",
       "  </thead>\n",
       "  <tbody>\n",
       "    <tr>\n",
       "      <th>1987-01-01</th>\n",
       "      <td>9.2040</td>\n",
       "    </tr>\n",
       "    <tr>\n",
       "      <th>1987-02-01</th>\n",
       "      <td>9.0825</td>\n",
       "    </tr>\n",
       "    <tr>\n",
       "      <th>1987-03-01</th>\n",
       "      <td>9.0350</td>\n",
       "    </tr>\n",
       "    <tr>\n",
       "      <th>1987-04-01</th>\n",
       "      <td>9.8325</td>\n",
       "    </tr>\n",
       "    <tr>\n",
       "      <th>1987-05-01</th>\n",
       "      <td>10.5960</td>\n",
       "    </tr>\n",
       "    <tr>\n",
       "      <th>...</th>\n",
       "      <td>...</td>\n",
       "    </tr>\n",
       "    <tr>\n",
       "      <th>2022-09-01</th>\n",
       "      <td>6.1120</td>\n",
       "    </tr>\n",
       "    <tr>\n",
       "      <th>2022-10-01</th>\n",
       "      <td>6.9000</td>\n",
       "    </tr>\n",
       "    <tr>\n",
       "      <th>2022-11-01</th>\n",
       "      <td>6.8050</td>\n",
       "    </tr>\n",
       "    <tr>\n",
       "      <th>2022-12-01</th>\n",
       "      <td>6.3640</td>\n",
       "    </tr>\n",
       "    <tr>\n",
       "      <th>2023-01-01</th>\n",
       "      <td>6.2725</td>\n",
       "    </tr>\n",
       "  </tbody>\n",
       "</table>\n",
       "<p>433 rows × 1 columns</p>\n",
       "</div>"
      ],
      "text/plain": [
       "            MORTGAGE30US\n",
       "DATE                    \n",
       "1987-01-01        9.2040\n",
       "1987-02-01        9.0825\n",
       "1987-03-01        9.0350\n",
       "1987-04-01        9.8325\n",
       "1987-05-01       10.5960\n",
       "...                  ...\n",
       "2022-09-01        6.1120\n",
       "2022-10-01        6.9000\n",
       "2022-11-01        6.8050\n",
       "2022-12-01        6.3640\n",
       "2023-01-01        6.2725\n",
       "\n",
       "[433 rows x 1 columns]"
      ]
     },
     "execution_count": 49,
     "metadata": {},
     "output_type": "execute_result"
    }
   ],
   "source": [
    "df6"
   ]
  },
  {
   "cell_type": "code",
   "execution_count": 50,
   "id": "eb9478d6",
   "metadata": {},
   "outputs": [
    {
     "data": {
      "text/plain": [
       "MORTGAGE30US    0\n",
       "dtype: int64"
      ]
     },
     "execution_count": 50,
     "metadata": {},
     "output_type": "execute_result"
    }
   ],
   "source": [
    "df6.isna().sum()"
   ]
  },
  {
   "cell_type": "markdown",
   "id": "2ae20e12",
   "metadata": {},
   "source": [
    "# Home Price Index"
   ]
  },
  {
   "cell_type": "code",
   "execution_count": 51,
   "id": "18228e66",
   "metadata": {},
   "outputs": [],
   "source": [
    "target = pd.read_csv('CSUSHPISA.csv')"
   ]
  },
  {
   "cell_type": "code",
   "execution_count": 52,
   "id": "f6dd9dd2",
   "metadata": {},
   "outputs": [
    {
     "data": {
      "text/html": [
       "<div>\n",
       "<style scoped>\n",
       "    .dataframe tbody tr th:only-of-type {\n",
       "        vertical-align: middle;\n",
       "    }\n",
       "\n",
       "    .dataframe tbody tr th {\n",
       "        vertical-align: top;\n",
       "    }\n",
       "\n",
       "    .dataframe thead th {\n",
       "        text-align: right;\n",
       "    }\n",
       "</style>\n",
       "<table border=\"1\" class=\"dataframe\">\n",
       "  <thead>\n",
       "    <tr style=\"text-align: right;\">\n",
       "      <th></th>\n",
       "      <th>DATE</th>\n",
       "      <th>CSUSHPISA</th>\n",
       "    </tr>\n",
       "  </thead>\n",
       "  <tbody>\n",
       "    <tr>\n",
       "      <th>0</th>\n",
       "      <td>1987-01-01</td>\n",
       "      <td>63.965</td>\n",
       "    </tr>\n",
       "    <tr>\n",
       "      <th>1</th>\n",
       "      <td>1987-02-01</td>\n",
       "      <td>64.424</td>\n",
       "    </tr>\n",
       "    <tr>\n",
       "      <th>2</th>\n",
       "      <td>1987-03-01</td>\n",
       "      <td>64.736</td>\n",
       "    </tr>\n",
       "    <tr>\n",
       "      <th>3</th>\n",
       "      <td>1987-04-01</td>\n",
       "      <td>65.132</td>\n",
       "    </tr>\n",
       "    <tr>\n",
       "      <th>4</th>\n",
       "      <td>1987-05-01</td>\n",
       "      <td>65.563</td>\n",
       "    </tr>\n",
       "    <tr>\n",
       "      <th>...</th>\n",
       "      <td>...</td>\n",
       "      <td>...</td>\n",
       "    </tr>\n",
       "    <tr>\n",
       "      <th>428</th>\n",
       "      <td>2022-09-01</td>\n",
       "      <td>299.353</td>\n",
       "    </tr>\n",
       "    <tr>\n",
       "      <th>429</th>\n",
       "      <td>2022-10-01</td>\n",
       "      <td>298.873</td>\n",
       "    </tr>\n",
       "    <tr>\n",
       "      <th>430</th>\n",
       "      <td>2022-11-01</td>\n",
       "      <td>298.269</td>\n",
       "    </tr>\n",
       "    <tr>\n",
       "      <th>431</th>\n",
       "      <td>2022-12-01</td>\n",
       "      <td>297.413</td>\n",
       "    </tr>\n",
       "    <tr>\n",
       "      <th>432</th>\n",
       "      <td>2023-01-01</td>\n",
       "      <td>297.030</td>\n",
       "    </tr>\n",
       "  </tbody>\n",
       "</table>\n",
       "<p>433 rows × 2 columns</p>\n",
       "</div>"
      ],
      "text/plain": [
       "           DATE  CSUSHPISA\n",
       "0    1987-01-01     63.965\n",
       "1    1987-02-01     64.424\n",
       "2    1987-03-01     64.736\n",
       "3    1987-04-01     65.132\n",
       "4    1987-05-01     65.563\n",
       "..          ...        ...\n",
       "428  2022-09-01    299.353\n",
       "429  2022-10-01    298.873\n",
       "430  2022-11-01    298.269\n",
       "431  2022-12-01    297.413\n",
       "432  2023-01-01    297.030\n",
       "\n",
       "[433 rows x 2 columns]"
      ]
     },
     "execution_count": 52,
     "metadata": {},
     "output_type": "execute_result"
    }
   ],
   "source": [
    "target"
   ]
  },
  {
   "cell_type": "code",
   "execution_count": 53,
   "id": "c74ef137",
   "metadata": {},
   "outputs": [],
   "source": [
    "target.set_index('DATE',inplace=True)"
   ]
  },
  {
   "cell_type": "code",
   "execution_count": 54,
   "id": "1f3d25ff",
   "metadata": {},
   "outputs": [],
   "source": [
    "target.index = pd.to_datetime(target.index)"
   ]
  },
  {
   "cell_type": "code",
   "execution_count": 55,
   "id": "bf053664",
   "metadata": {},
   "outputs": [
    {
     "data": {
      "text/html": [
       "<div>\n",
       "<style scoped>\n",
       "    .dataframe tbody tr th:only-of-type {\n",
       "        vertical-align: middle;\n",
       "    }\n",
       "\n",
       "    .dataframe tbody tr th {\n",
       "        vertical-align: top;\n",
       "    }\n",
       "\n",
       "    .dataframe thead th {\n",
       "        text-align: right;\n",
       "    }\n",
       "</style>\n",
       "<table border=\"1\" class=\"dataframe\">\n",
       "  <thead>\n",
       "    <tr style=\"text-align: right;\">\n",
       "      <th></th>\n",
       "      <th>CSUSHPISA</th>\n",
       "    </tr>\n",
       "    <tr>\n",
       "      <th>DATE</th>\n",
       "      <th></th>\n",
       "    </tr>\n",
       "  </thead>\n",
       "  <tbody>\n",
       "    <tr>\n",
       "      <th>1987-01-01</th>\n",
       "      <td>63.965</td>\n",
       "    </tr>\n",
       "    <tr>\n",
       "      <th>1987-02-01</th>\n",
       "      <td>64.424</td>\n",
       "    </tr>\n",
       "    <tr>\n",
       "      <th>1987-03-01</th>\n",
       "      <td>64.736</td>\n",
       "    </tr>\n",
       "    <tr>\n",
       "      <th>1987-04-01</th>\n",
       "      <td>65.132</td>\n",
       "    </tr>\n",
       "    <tr>\n",
       "      <th>1987-05-01</th>\n",
       "      <td>65.563</td>\n",
       "    </tr>\n",
       "    <tr>\n",
       "      <th>...</th>\n",
       "      <td>...</td>\n",
       "    </tr>\n",
       "    <tr>\n",
       "      <th>2022-09-01</th>\n",
       "      <td>299.353</td>\n",
       "    </tr>\n",
       "    <tr>\n",
       "      <th>2022-10-01</th>\n",
       "      <td>298.873</td>\n",
       "    </tr>\n",
       "    <tr>\n",
       "      <th>2022-11-01</th>\n",
       "      <td>298.269</td>\n",
       "    </tr>\n",
       "    <tr>\n",
       "      <th>2022-12-01</th>\n",
       "      <td>297.413</td>\n",
       "    </tr>\n",
       "    <tr>\n",
       "      <th>2023-01-01</th>\n",
       "      <td>297.030</td>\n",
       "    </tr>\n",
       "  </tbody>\n",
       "</table>\n",
       "<p>433 rows × 1 columns</p>\n",
       "</div>"
      ],
      "text/plain": [
       "            CSUSHPISA\n",
       "DATE                 \n",
       "1987-01-01     63.965\n",
       "1987-02-01     64.424\n",
       "1987-03-01     64.736\n",
       "1987-04-01     65.132\n",
       "1987-05-01     65.563\n",
       "...               ...\n",
       "2022-09-01    299.353\n",
       "2022-10-01    298.873\n",
       "2022-11-01    298.269\n",
       "2022-12-01    297.413\n",
       "2023-01-01    297.030\n",
       "\n",
       "[433 rows x 1 columns]"
      ]
     },
     "execution_count": 55,
     "metadata": {},
     "output_type": "execute_result"
    }
   ],
   "source": [
    "target"
   ]
  },
  {
   "cell_type": "code",
   "execution_count": 56,
   "id": "7c900b5e",
   "metadata": {},
   "outputs": [
    {
     "data": {
      "text/plain": [
       "CSUSHPISA    0\n",
       "dtype: int64"
      ]
     },
     "execution_count": 56,
     "metadata": {},
     "output_type": "execute_result"
    }
   ],
   "source": [
    "target.isna().sum()"
   ]
  },
  {
   "cell_type": "markdown",
   "id": "ed00c5ac",
   "metadata": {},
   "source": [
    "# Inflation Rate"
   ]
  },
  {
   "cell_type": "code",
   "execution_count": 57,
   "id": "2605ad5f",
   "metadata": {},
   "outputs": [],
   "source": [
    "df7 = pd.read_csv('CPIAUCSL.csv')"
   ]
  },
  {
   "cell_type": "code",
   "execution_count": 58,
   "id": "0c0e3059",
   "metadata": {},
   "outputs": [
    {
     "data": {
      "text/html": [
       "<div>\n",
       "<style scoped>\n",
       "    .dataframe tbody tr th:only-of-type {\n",
       "        vertical-align: middle;\n",
       "    }\n",
       "\n",
       "    .dataframe tbody tr th {\n",
       "        vertical-align: top;\n",
       "    }\n",
       "\n",
       "    .dataframe thead th {\n",
       "        text-align: right;\n",
       "    }\n",
       "</style>\n",
       "<table border=\"1\" class=\"dataframe\">\n",
       "  <thead>\n",
       "    <tr style=\"text-align: right;\">\n",
       "      <th></th>\n",
       "      <th>DATE</th>\n",
       "      <th>CPIAUCSL</th>\n",
       "    </tr>\n",
       "  </thead>\n",
       "  <tbody>\n",
       "    <tr>\n",
       "      <th>0</th>\n",
       "      <td>1983-01-01</td>\n",
       "      <td>97.900</td>\n",
       "    </tr>\n",
       "    <tr>\n",
       "      <th>1</th>\n",
       "      <td>1983-02-01</td>\n",
       "      <td>98.000</td>\n",
       "    </tr>\n",
       "    <tr>\n",
       "      <th>2</th>\n",
       "      <td>1983-03-01</td>\n",
       "      <td>98.100</td>\n",
       "    </tr>\n",
       "    <tr>\n",
       "      <th>3</th>\n",
       "      <td>1983-04-01</td>\n",
       "      <td>98.800</td>\n",
       "    </tr>\n",
       "    <tr>\n",
       "      <th>4</th>\n",
       "      <td>1983-05-01</td>\n",
       "      <td>99.200</td>\n",
       "    </tr>\n",
       "    <tr>\n",
       "      <th>...</th>\n",
       "      <td>...</td>\n",
       "      <td>...</td>\n",
       "    </tr>\n",
       "    <tr>\n",
       "      <th>476</th>\n",
       "      <td>2022-09-01</td>\n",
       "      <td>296.539</td>\n",
       "    </tr>\n",
       "    <tr>\n",
       "      <th>477</th>\n",
       "      <td>2022-10-01</td>\n",
       "      <td>297.987</td>\n",
       "    </tr>\n",
       "    <tr>\n",
       "      <th>478</th>\n",
       "      <td>2022-11-01</td>\n",
       "      <td>298.598</td>\n",
       "    </tr>\n",
       "    <tr>\n",
       "      <th>479</th>\n",
       "      <td>2022-12-01</td>\n",
       "      <td>298.990</td>\n",
       "    </tr>\n",
       "    <tr>\n",
       "      <th>480</th>\n",
       "      <td>2023-01-01</td>\n",
       "      <td>300.536</td>\n",
       "    </tr>\n",
       "  </tbody>\n",
       "</table>\n",
       "<p>481 rows × 2 columns</p>\n",
       "</div>"
      ],
      "text/plain": [
       "           DATE  CPIAUCSL\n",
       "0    1983-01-01    97.900\n",
       "1    1983-02-01    98.000\n",
       "2    1983-03-01    98.100\n",
       "3    1983-04-01    98.800\n",
       "4    1983-05-01    99.200\n",
       "..          ...       ...\n",
       "476  2022-09-01   296.539\n",
       "477  2022-10-01   297.987\n",
       "478  2022-11-01   298.598\n",
       "479  2022-12-01   298.990\n",
       "480  2023-01-01   300.536\n",
       "\n",
       "[481 rows x 2 columns]"
      ]
     },
     "execution_count": 58,
     "metadata": {},
     "output_type": "execute_result"
    }
   ],
   "source": [
    "df7"
   ]
  },
  {
   "cell_type": "code",
   "execution_count": 59,
   "id": "e60813e6",
   "metadata": {},
   "outputs": [
    {
     "name": "stdout",
     "output_type": "stream",
     "text": [
      "<class 'pandas.core.frame.DataFrame'>\n",
      "RangeIndex: 481 entries, 0 to 480\n",
      "Data columns (total 2 columns):\n",
      " #   Column    Non-Null Count  Dtype  \n",
      "---  ------    --------------  -----  \n",
      " 0   DATE      481 non-null    object \n",
      " 1   CPIAUCSL  481 non-null    float64\n",
      "dtypes: float64(1), object(1)\n",
      "memory usage: 7.6+ KB\n"
     ]
    }
   ],
   "source": [
    "df7.info()"
   ]
  },
  {
   "cell_type": "code",
   "execution_count": 60,
   "id": "b48eb763",
   "metadata": {},
   "outputs": [],
   "source": [
    "df7.set_index('DATE',inplace=True)"
   ]
  },
  {
   "cell_type": "code",
   "execution_count": 61,
   "id": "00ef7964",
   "metadata": {},
   "outputs": [],
   "source": [
    "df7.index = pd.to_datetime(df7.index)"
   ]
  },
  {
   "cell_type": "code",
   "execution_count": 62,
   "id": "63cb3bbc",
   "metadata": {},
   "outputs": [],
   "source": [
    "df7 = df7['1987-01-01':'2023-01-01']"
   ]
  },
  {
   "cell_type": "code",
   "execution_count": 63,
   "id": "d7b0e7da",
   "metadata": {},
   "outputs": [
    {
     "data": {
      "text/html": [
       "<div>\n",
       "<style scoped>\n",
       "    .dataframe tbody tr th:only-of-type {\n",
       "        vertical-align: middle;\n",
       "    }\n",
       "\n",
       "    .dataframe tbody tr th {\n",
       "        vertical-align: top;\n",
       "    }\n",
       "\n",
       "    .dataframe thead th {\n",
       "        text-align: right;\n",
       "    }\n",
       "</style>\n",
       "<table border=\"1\" class=\"dataframe\">\n",
       "  <thead>\n",
       "    <tr style=\"text-align: right;\">\n",
       "      <th></th>\n",
       "      <th>CPIAUCSL</th>\n",
       "    </tr>\n",
       "    <tr>\n",
       "      <th>DATE</th>\n",
       "      <th></th>\n",
       "    </tr>\n",
       "  </thead>\n",
       "  <tbody>\n",
       "    <tr>\n",
       "      <th>1987-01-01</th>\n",
       "      <td>111.400</td>\n",
       "    </tr>\n",
       "    <tr>\n",
       "      <th>1987-02-01</th>\n",
       "      <td>111.800</td>\n",
       "    </tr>\n",
       "    <tr>\n",
       "      <th>1987-03-01</th>\n",
       "      <td>112.200</td>\n",
       "    </tr>\n",
       "    <tr>\n",
       "      <th>1987-04-01</th>\n",
       "      <td>112.700</td>\n",
       "    </tr>\n",
       "    <tr>\n",
       "      <th>1987-05-01</th>\n",
       "      <td>113.000</td>\n",
       "    </tr>\n",
       "    <tr>\n",
       "      <th>...</th>\n",
       "      <td>...</td>\n",
       "    </tr>\n",
       "    <tr>\n",
       "      <th>2022-09-01</th>\n",
       "      <td>296.539</td>\n",
       "    </tr>\n",
       "    <tr>\n",
       "      <th>2022-10-01</th>\n",
       "      <td>297.987</td>\n",
       "    </tr>\n",
       "    <tr>\n",
       "      <th>2022-11-01</th>\n",
       "      <td>298.598</td>\n",
       "    </tr>\n",
       "    <tr>\n",
       "      <th>2022-12-01</th>\n",
       "      <td>298.990</td>\n",
       "    </tr>\n",
       "    <tr>\n",
       "      <th>2023-01-01</th>\n",
       "      <td>300.536</td>\n",
       "    </tr>\n",
       "  </tbody>\n",
       "</table>\n",
       "<p>433 rows × 1 columns</p>\n",
       "</div>"
      ],
      "text/plain": [
       "            CPIAUCSL\n",
       "DATE                \n",
       "1987-01-01   111.400\n",
       "1987-02-01   111.800\n",
       "1987-03-01   112.200\n",
       "1987-04-01   112.700\n",
       "1987-05-01   113.000\n",
       "...              ...\n",
       "2022-09-01   296.539\n",
       "2022-10-01   297.987\n",
       "2022-11-01   298.598\n",
       "2022-12-01   298.990\n",
       "2023-01-01   300.536\n",
       "\n",
       "[433 rows x 1 columns]"
      ]
     },
     "execution_count": 63,
     "metadata": {},
     "output_type": "execute_result"
    }
   ],
   "source": [
    "df7"
   ]
  },
  {
   "cell_type": "code",
   "execution_count": 64,
   "id": "f99385b3",
   "metadata": {},
   "outputs": [
    {
     "data": {
      "text/plain": [
       "CPIAUCSL    0\n",
       "dtype: int64"
      ]
     },
     "execution_count": 64,
     "metadata": {},
     "output_type": "execute_result"
    }
   ],
   "source": [
    "df7.isna().sum()"
   ]
  },
  {
   "cell_type": "markdown",
   "id": "35e3deae",
   "metadata": {},
   "source": [
    "# GDP"
   ]
  },
  {
   "cell_type": "code",
   "execution_count": 65,
   "id": "2ce5654e",
   "metadata": {},
   "outputs": [],
   "source": [
    "df8 = pd.read_csv('GDP (1).csv')"
   ]
  },
  {
   "cell_type": "code",
   "execution_count": 66,
   "id": "330154b1",
   "metadata": {},
   "outputs": [
    {
     "data": {
      "text/html": [
       "<div>\n",
       "<style scoped>\n",
       "    .dataframe tbody tr th:only-of-type {\n",
       "        vertical-align: middle;\n",
       "    }\n",
       "\n",
       "    .dataframe tbody tr th {\n",
       "        vertical-align: top;\n",
       "    }\n",
       "\n",
       "    .dataframe thead th {\n",
       "        text-align: right;\n",
       "    }\n",
       "</style>\n",
       "<table border=\"1\" class=\"dataframe\">\n",
       "  <thead>\n",
       "    <tr style=\"text-align: right;\">\n",
       "      <th></th>\n",
       "      <th>DATE</th>\n",
       "      <th>GDP</th>\n",
       "    </tr>\n",
       "  </thead>\n",
       "  <tbody>\n",
       "    <tr>\n",
       "      <th>0</th>\n",
       "      <td>1987-01-01</td>\n",
       "      <td>4722.156</td>\n",
       "    </tr>\n",
       "    <tr>\n",
       "      <th>1</th>\n",
       "      <td>1987-04-01</td>\n",
       "      <td>4806.160</td>\n",
       "    </tr>\n",
       "    <tr>\n",
       "      <th>2</th>\n",
       "      <td>1987-07-01</td>\n",
       "      <td>4884.555</td>\n",
       "    </tr>\n",
       "    <tr>\n",
       "      <th>3</th>\n",
       "      <td>1987-10-01</td>\n",
       "      <td>5007.994</td>\n",
       "    </tr>\n",
       "    <tr>\n",
       "      <th>4</th>\n",
       "      <td>1988-01-01</td>\n",
       "      <td>5073.372</td>\n",
       "    </tr>\n",
       "    <tr>\n",
       "      <th>...</th>\n",
       "      <td>...</td>\n",
       "      <td>...</td>\n",
       "    </tr>\n",
       "    <tr>\n",
       "      <th>142</th>\n",
       "      <td>2022-07-01</td>\n",
       "      <td>25994.639</td>\n",
       "    </tr>\n",
       "    <tr>\n",
       "      <th>143</th>\n",
       "      <td>2022-10-01</td>\n",
       "      <td>26408.405</td>\n",
       "    </tr>\n",
       "    <tr>\n",
       "      <th>144</th>\n",
       "      <td>2023-01-01</td>\n",
       "      <td>26813.601</td>\n",
       "    </tr>\n",
       "    <tr>\n",
       "      <th>145</th>\n",
       "      <td>2023-04-01</td>\n",
       "      <td>27063.012</td>\n",
       "    </tr>\n",
       "    <tr>\n",
       "      <th>146</th>\n",
       "      <td>2023-07-01</td>\n",
       "      <td>27623.543</td>\n",
       "    </tr>\n",
       "  </tbody>\n",
       "</table>\n",
       "<p>147 rows × 2 columns</p>\n",
       "</div>"
      ],
      "text/plain": [
       "           DATE        GDP\n",
       "0    1987-01-01   4722.156\n",
       "1    1987-04-01   4806.160\n",
       "2    1987-07-01   4884.555\n",
       "3    1987-10-01   5007.994\n",
       "4    1988-01-01   5073.372\n",
       "..          ...        ...\n",
       "142  2022-07-01  25994.639\n",
       "143  2022-10-01  26408.405\n",
       "144  2023-01-01  26813.601\n",
       "145  2023-04-01  27063.012\n",
       "146  2023-07-01  27623.543\n",
       "\n",
       "[147 rows x 2 columns]"
      ]
     },
     "execution_count": 66,
     "metadata": {},
     "output_type": "execute_result"
    }
   ],
   "source": [
    "df8"
   ]
  },
  {
   "cell_type": "code",
   "execution_count": 67,
   "id": "bb8410c2",
   "metadata": {},
   "outputs": [],
   "source": [
    "df8.set_index('DATE',inplace=True)"
   ]
  },
  {
   "cell_type": "code",
   "execution_count": 68,
   "id": "a5d4986d",
   "metadata": {},
   "outputs": [],
   "source": [
    "df8.index = pd.to_datetime(df8.index)"
   ]
  },
  {
   "cell_type": "code",
   "execution_count": 69,
   "id": "f4aa26d0",
   "metadata": {},
   "outputs": [],
   "source": [
    "df8 = df8.resample('M').ffill()"
   ]
  },
  {
   "cell_type": "code",
   "execution_count": 70,
   "id": "8b911a8d",
   "metadata": {},
   "outputs": [],
   "source": [
    "df8.index = df8.index.map(lambda x: x.replace(day=1))"
   ]
  },
  {
   "cell_type": "code",
   "execution_count": 71,
   "id": "29976739",
   "metadata": {},
   "outputs": [],
   "source": [
    "df8 = df8[\"1987-01-01\":\"2023-01-01\"]"
   ]
  },
  {
   "cell_type": "code",
   "execution_count": 72,
   "id": "e79072dd",
   "metadata": {},
   "outputs": [
    {
     "data": {
      "text/html": [
       "<div>\n",
       "<style scoped>\n",
       "    .dataframe tbody tr th:only-of-type {\n",
       "        vertical-align: middle;\n",
       "    }\n",
       "\n",
       "    .dataframe tbody tr th {\n",
       "        vertical-align: top;\n",
       "    }\n",
       "\n",
       "    .dataframe thead th {\n",
       "        text-align: right;\n",
       "    }\n",
       "</style>\n",
       "<table border=\"1\" class=\"dataframe\">\n",
       "  <thead>\n",
       "    <tr style=\"text-align: right;\">\n",
       "      <th></th>\n",
       "      <th>GDP</th>\n",
       "    </tr>\n",
       "    <tr>\n",
       "      <th>DATE</th>\n",
       "      <th></th>\n",
       "    </tr>\n",
       "  </thead>\n",
       "  <tbody>\n",
       "    <tr>\n",
       "      <th>1987-01-01</th>\n",
       "      <td>4722.156</td>\n",
       "    </tr>\n",
       "    <tr>\n",
       "      <th>1987-02-01</th>\n",
       "      <td>4722.156</td>\n",
       "    </tr>\n",
       "    <tr>\n",
       "      <th>1987-03-01</th>\n",
       "      <td>4722.156</td>\n",
       "    </tr>\n",
       "    <tr>\n",
       "      <th>1987-04-01</th>\n",
       "      <td>4806.160</td>\n",
       "    </tr>\n",
       "    <tr>\n",
       "      <th>1987-05-01</th>\n",
       "      <td>4806.160</td>\n",
       "    </tr>\n",
       "    <tr>\n",
       "      <th>...</th>\n",
       "      <td>...</td>\n",
       "    </tr>\n",
       "    <tr>\n",
       "      <th>2022-09-01</th>\n",
       "      <td>25994.639</td>\n",
       "    </tr>\n",
       "    <tr>\n",
       "      <th>2022-10-01</th>\n",
       "      <td>26408.405</td>\n",
       "    </tr>\n",
       "    <tr>\n",
       "      <th>2022-11-01</th>\n",
       "      <td>26408.405</td>\n",
       "    </tr>\n",
       "    <tr>\n",
       "      <th>2022-12-01</th>\n",
       "      <td>26408.405</td>\n",
       "    </tr>\n",
       "    <tr>\n",
       "      <th>2023-01-01</th>\n",
       "      <td>26813.601</td>\n",
       "    </tr>\n",
       "  </tbody>\n",
       "</table>\n",
       "<p>433 rows × 1 columns</p>\n",
       "</div>"
      ],
      "text/plain": [
       "                  GDP\n",
       "DATE                 \n",
       "1987-01-01   4722.156\n",
       "1987-02-01   4722.156\n",
       "1987-03-01   4722.156\n",
       "1987-04-01   4806.160\n",
       "1987-05-01   4806.160\n",
       "...               ...\n",
       "2022-09-01  25994.639\n",
       "2022-10-01  26408.405\n",
       "2022-11-01  26408.405\n",
       "2022-12-01  26408.405\n",
       "2023-01-01  26813.601\n",
       "\n",
       "[433 rows x 1 columns]"
      ]
     },
     "execution_count": 72,
     "metadata": {},
     "output_type": "execute_result"
    }
   ],
   "source": [
    "df8"
   ]
  },
  {
   "cell_type": "code",
   "execution_count": 73,
   "id": "356fd8ad",
   "metadata": {},
   "outputs": [
    {
     "name": "stdout",
     "output_type": "stream",
     "text": [
      "<class 'pandas.core.frame.DataFrame'>\n",
      "DatetimeIndex: 433 entries, 1987-01-01 to 2023-01-01\n",
      "Data columns (total 1 columns):\n",
      " #   Column  Non-Null Count  Dtype  \n",
      "---  ------  --------------  -----  \n",
      " 0   GDP     433 non-null    float64\n",
      "dtypes: float64(1)\n",
      "memory usage: 6.8 KB\n"
     ]
    }
   ],
   "source": [
    "df8.info()"
   ]
  },
  {
   "cell_type": "markdown",
   "id": "6a3bf79e",
   "metadata": {},
   "source": [
    "# Personal Income"
   ]
  },
  {
   "cell_type": "code",
   "execution_count": 74,
   "id": "d51b8785",
   "metadata": {},
   "outputs": [],
   "source": [
    "df9 = pd.read_csv('PI.csv')"
   ]
  },
  {
   "cell_type": "code",
   "execution_count": 75,
   "id": "23703129",
   "metadata": {},
   "outputs": [
    {
     "data": {
      "text/html": [
       "<div>\n",
       "<style scoped>\n",
       "    .dataframe tbody tr th:only-of-type {\n",
       "        vertical-align: middle;\n",
       "    }\n",
       "\n",
       "    .dataframe tbody tr th {\n",
       "        vertical-align: top;\n",
       "    }\n",
       "\n",
       "    .dataframe thead th {\n",
       "        text-align: right;\n",
       "    }\n",
       "</style>\n",
       "<table border=\"1\" class=\"dataframe\">\n",
       "  <thead>\n",
       "    <tr style=\"text-align: right;\">\n",
       "      <th></th>\n",
       "      <th>DATE</th>\n",
       "      <th>PI</th>\n",
       "    </tr>\n",
       "  </thead>\n",
       "  <tbody>\n",
       "    <tr>\n",
       "      <th>0</th>\n",
       "      <td>1987-01-01</td>\n",
       "      <td>3820.2</td>\n",
       "    </tr>\n",
       "    <tr>\n",
       "      <th>1</th>\n",
       "      <td>1987-02-01</td>\n",
       "      <td>3845.0</td>\n",
       "    </tr>\n",
       "    <tr>\n",
       "      <th>2</th>\n",
       "      <td>1987-03-01</td>\n",
       "      <td>3863.8</td>\n",
       "    </tr>\n",
       "    <tr>\n",
       "      <th>3</th>\n",
       "      <td>1987-04-01</td>\n",
       "      <td>3875.4</td>\n",
       "    </tr>\n",
       "    <tr>\n",
       "      <th>4</th>\n",
       "      <td>1987-05-01</td>\n",
       "      <td>3908.6</td>\n",
       "    </tr>\n",
       "    <tr>\n",
       "      <th>...</th>\n",
       "      <td>...</td>\n",
       "      <td>...</td>\n",
       "    </tr>\n",
       "    <tr>\n",
       "      <th>434</th>\n",
       "      <td>2023-03-01</td>\n",
       "      <td>22757.9</td>\n",
       "    </tr>\n",
       "    <tr>\n",
       "      <th>435</th>\n",
       "      <td>2023-04-01</td>\n",
       "      <td>22815.8</td>\n",
       "    </tr>\n",
       "    <tr>\n",
       "      <th>436</th>\n",
       "      <td>2023-05-01</td>\n",
       "      <td>22893.1</td>\n",
       "    </tr>\n",
       "    <tr>\n",
       "      <th>437</th>\n",
       "      <td>2023-06-01</td>\n",
       "      <td>22941.5</td>\n",
       "    </tr>\n",
       "    <tr>\n",
       "      <th>438</th>\n",
       "      <td>2023-07-01</td>\n",
       "      <td>22994.3</td>\n",
       "    </tr>\n",
       "  </tbody>\n",
       "</table>\n",
       "<p>439 rows × 2 columns</p>\n",
       "</div>"
      ],
      "text/plain": [
       "           DATE       PI\n",
       "0    1987-01-01   3820.2\n",
       "1    1987-02-01   3845.0\n",
       "2    1987-03-01   3863.8\n",
       "3    1987-04-01   3875.4\n",
       "4    1987-05-01   3908.6\n",
       "..          ...      ...\n",
       "434  2023-03-01  22757.9\n",
       "435  2023-04-01  22815.8\n",
       "436  2023-05-01  22893.1\n",
       "437  2023-06-01  22941.5\n",
       "438  2023-07-01  22994.3\n",
       "\n",
       "[439 rows x 2 columns]"
      ]
     },
     "execution_count": 75,
     "metadata": {},
     "output_type": "execute_result"
    }
   ],
   "source": [
    "df9"
   ]
  },
  {
   "cell_type": "code",
   "execution_count": 76,
   "id": "c2364f97",
   "metadata": {},
   "outputs": [
    {
     "name": "stdout",
     "output_type": "stream",
     "text": [
      "<class 'pandas.core.frame.DataFrame'>\n",
      "RangeIndex: 439 entries, 0 to 438\n",
      "Data columns (total 2 columns):\n",
      " #   Column  Non-Null Count  Dtype  \n",
      "---  ------  --------------  -----  \n",
      " 0   DATE    439 non-null    object \n",
      " 1   PI      439 non-null    float64\n",
      "dtypes: float64(1), object(1)\n",
      "memory usage: 7.0+ KB\n"
     ]
    }
   ],
   "source": [
    "df9.info()"
   ]
  },
  {
   "cell_type": "code",
   "execution_count": 77,
   "id": "8609827f",
   "metadata": {},
   "outputs": [],
   "source": [
    "df9.set_index('DATE',inplace=True)"
   ]
  },
  {
   "cell_type": "code",
   "execution_count": 78,
   "id": "8834624b",
   "metadata": {},
   "outputs": [],
   "source": [
    "df9.index = pd.to_datetime(df9.index)"
   ]
  },
  {
   "cell_type": "code",
   "execution_count": 79,
   "id": "8d40c225",
   "metadata": {},
   "outputs": [],
   "source": [
    "df9 = df9['1987-01-01':'2023-01-01']"
   ]
  },
  {
   "cell_type": "code",
   "execution_count": 80,
   "id": "ea192312",
   "metadata": {},
   "outputs": [
    {
     "data": {
      "text/html": [
       "<div>\n",
       "<style scoped>\n",
       "    .dataframe tbody tr th:only-of-type {\n",
       "        vertical-align: middle;\n",
       "    }\n",
       "\n",
       "    .dataframe tbody tr th {\n",
       "        vertical-align: top;\n",
       "    }\n",
       "\n",
       "    .dataframe thead th {\n",
       "        text-align: right;\n",
       "    }\n",
       "</style>\n",
       "<table border=\"1\" class=\"dataframe\">\n",
       "  <thead>\n",
       "    <tr style=\"text-align: right;\">\n",
       "      <th></th>\n",
       "      <th>PI</th>\n",
       "    </tr>\n",
       "    <tr>\n",
       "      <th>DATE</th>\n",
       "      <th></th>\n",
       "    </tr>\n",
       "  </thead>\n",
       "  <tbody>\n",
       "    <tr>\n",
       "      <th>1987-01-01</th>\n",
       "      <td>3820.2</td>\n",
       "    </tr>\n",
       "    <tr>\n",
       "      <th>1987-02-01</th>\n",
       "      <td>3845.0</td>\n",
       "    </tr>\n",
       "    <tr>\n",
       "      <th>1987-03-01</th>\n",
       "      <td>3863.8</td>\n",
       "    </tr>\n",
       "    <tr>\n",
       "      <th>1987-04-01</th>\n",
       "      <td>3875.4</td>\n",
       "    </tr>\n",
       "    <tr>\n",
       "      <th>1987-05-01</th>\n",
       "      <td>3908.6</td>\n",
       "    </tr>\n",
       "    <tr>\n",
       "      <th>...</th>\n",
       "      <td>...</td>\n",
       "    </tr>\n",
       "    <tr>\n",
       "      <th>2022-09-01</th>\n",
       "      <td>22121.5</td>\n",
       "    </tr>\n",
       "    <tr>\n",
       "      <th>2022-10-01</th>\n",
       "      <td>22242.2</td>\n",
       "    </tr>\n",
       "    <tr>\n",
       "      <th>2022-11-01</th>\n",
       "      <td>22267.7</td>\n",
       "    </tr>\n",
       "    <tr>\n",
       "      <th>2022-12-01</th>\n",
       "      <td>22312.3</td>\n",
       "    </tr>\n",
       "    <tr>\n",
       "      <th>2023-01-01</th>\n",
       "      <td>22525.3</td>\n",
       "    </tr>\n",
       "  </tbody>\n",
       "</table>\n",
       "<p>433 rows × 1 columns</p>\n",
       "</div>"
      ],
      "text/plain": [
       "                 PI\n",
       "DATE               \n",
       "1987-01-01   3820.2\n",
       "1987-02-01   3845.0\n",
       "1987-03-01   3863.8\n",
       "1987-04-01   3875.4\n",
       "1987-05-01   3908.6\n",
       "...             ...\n",
       "2022-09-01  22121.5\n",
       "2022-10-01  22242.2\n",
       "2022-11-01  22267.7\n",
       "2022-12-01  22312.3\n",
       "2023-01-01  22525.3\n",
       "\n",
       "[433 rows x 1 columns]"
      ]
     },
     "execution_count": 80,
     "metadata": {},
     "output_type": "execute_result"
    }
   ],
   "source": [
    "df9"
   ]
  },
  {
   "cell_type": "code",
   "execution_count": 81,
   "id": "cc5ec7ab",
   "metadata": {},
   "outputs": [
    {
     "data": {
      "text/plain": [
       "PI    0\n",
       "dtype: int64"
      ]
     },
     "execution_count": 81,
     "metadata": {},
     "output_type": "execute_result"
    }
   ],
   "source": [
    "df9.isna().sum()"
   ]
  },
  {
   "cell_type": "markdown",
   "id": "7758ecce",
   "metadata": {},
   "source": [
    "# Combining all dataframe to a single dataframe "
   ]
  },
  {
   "cell_type": "code",
   "execution_count": 82,
   "id": "5cbc1804",
   "metadata": {},
   "outputs": [],
   "source": [
    "df_final = [df1,df2,df3,df4,df5,df6,df7,df8,df9,target]"
   ]
  },
  {
   "cell_type": "code",
   "execution_count": 83,
   "id": "4427e623",
   "metadata": {},
   "outputs": [],
   "source": [
    "df = pd.concat(df_final, axis=1, ignore_index=False)"
   ]
  },
  {
   "cell_type": "code",
   "execution_count": 84,
   "id": "ecebaf37",
   "metadata": {},
   "outputs": [
    {
     "data": {
      "text/html": [
       "<div>\n",
       "<style scoped>\n",
       "    .dataframe tbody tr th:only-of-type {\n",
       "        vertical-align: middle;\n",
       "    }\n",
       "\n",
       "    .dataframe tbody tr th {\n",
       "        vertical-align: top;\n",
       "    }\n",
       "\n",
       "    .dataframe thead th {\n",
       "        text-align: right;\n",
       "    }\n",
       "</style>\n",
       "<table border=\"1\" class=\"dataframe\">\n",
       "  <thead>\n",
       "    <tr style=\"text-align: right;\">\n",
       "      <th></th>\n",
       "      <th>UMCSENT</th>\n",
       "      <th>UNRATE</th>\n",
       "      <th>POP</th>\n",
       "      <th>PERMIT</th>\n",
       "      <th>MSACSR</th>\n",
       "      <th>MORTGAGE30US</th>\n",
       "      <th>CPIAUCSL</th>\n",
       "      <th>GDP</th>\n",
       "      <th>PI</th>\n",
       "      <th>CSUSHPISA</th>\n",
       "    </tr>\n",
       "    <tr>\n",
       "      <th>DATE</th>\n",
       "      <th></th>\n",
       "      <th></th>\n",
       "      <th></th>\n",
       "      <th></th>\n",
       "      <th></th>\n",
       "      <th></th>\n",
       "      <th></th>\n",
       "      <th></th>\n",
       "      <th></th>\n",
       "      <th></th>\n",
       "    </tr>\n",
       "  </thead>\n",
       "  <tbody>\n",
       "    <tr>\n",
       "      <th>1987-01-01</th>\n",
       "      <td>90.4</td>\n",
       "      <td>6.6</td>\n",
       "      <td>241784.000</td>\n",
       "      <td>1690.0</td>\n",
       "      <td>6.0</td>\n",
       "      <td>9.2040</td>\n",
       "      <td>111.400</td>\n",
       "      <td>4722.156</td>\n",
       "      <td>3820.2</td>\n",
       "      <td>63.965</td>\n",
       "    </tr>\n",
       "    <tr>\n",
       "      <th>1987-02-01</th>\n",
       "      <td>90.2</td>\n",
       "      <td>6.6</td>\n",
       "      <td>241930.000</td>\n",
       "      <td>1689.0</td>\n",
       "      <td>6.2</td>\n",
       "      <td>9.0825</td>\n",
       "      <td>111.800</td>\n",
       "      <td>4722.156</td>\n",
       "      <td>3845.0</td>\n",
       "      <td>64.424</td>\n",
       "    </tr>\n",
       "    <tr>\n",
       "      <th>1987-03-01</th>\n",
       "      <td>90.8</td>\n",
       "      <td>6.6</td>\n",
       "      <td>242079.000</td>\n",
       "      <td>1704.0</td>\n",
       "      <td>6.0</td>\n",
       "      <td>9.0350</td>\n",
       "      <td>112.200</td>\n",
       "      <td>4722.156</td>\n",
       "      <td>3863.8</td>\n",
       "      <td>64.736</td>\n",
       "    </tr>\n",
       "    <tr>\n",
       "      <th>1987-04-01</th>\n",
       "      <td>92.8</td>\n",
       "      <td>6.3</td>\n",
       "      <td>242252.000</td>\n",
       "      <td>1601.0</td>\n",
       "      <td>6.0</td>\n",
       "      <td>9.8325</td>\n",
       "      <td>112.700</td>\n",
       "      <td>4806.160</td>\n",
       "      <td>3875.4</td>\n",
       "      <td>65.132</td>\n",
       "    </tr>\n",
       "    <tr>\n",
       "      <th>1987-05-01</th>\n",
       "      <td>91.1</td>\n",
       "      <td>6.3</td>\n",
       "      <td>242423.000</td>\n",
       "      <td>1500.0</td>\n",
       "      <td>6.7</td>\n",
       "      <td>10.5960</td>\n",
       "      <td>113.000</td>\n",
       "      <td>4806.160</td>\n",
       "      <td>3908.6</td>\n",
       "      <td>65.563</td>\n",
       "    </tr>\n",
       "    <tr>\n",
       "      <th>...</th>\n",
       "      <td>...</td>\n",
       "      <td>...</td>\n",
       "      <td>...</td>\n",
       "      <td>...</td>\n",
       "      <td>...</td>\n",
       "      <td>...</td>\n",
       "      <td>...</td>\n",
       "      <td>...</td>\n",
       "      <td>...</td>\n",
       "      <td>...</td>\n",
       "    </tr>\n",
       "    <tr>\n",
       "      <th>2022-09-01</th>\n",
       "      <td>58.6</td>\n",
       "      <td>3.5</td>\n",
       "      <td>333887.159</td>\n",
       "      <td>1588.0</td>\n",
       "      <td>9.7</td>\n",
       "      <td>6.1120</td>\n",
       "      <td>296.539</td>\n",
       "      <td>25994.639</td>\n",
       "      <td>22121.5</td>\n",
       "      <td>299.353</td>\n",
       "    </tr>\n",
       "    <tr>\n",
       "      <th>2022-10-01</th>\n",
       "      <td>59.9</td>\n",
       "      <td>3.7</td>\n",
       "      <td>334064.228</td>\n",
       "      <td>1555.0</td>\n",
       "      <td>9.7</td>\n",
       "      <td>6.9000</td>\n",
       "      <td>297.987</td>\n",
       "      <td>26408.405</td>\n",
       "      <td>22242.2</td>\n",
       "      <td>298.873</td>\n",
       "    </tr>\n",
       "    <tr>\n",
       "      <th>2022-11-01</th>\n",
       "      <td>56.7</td>\n",
       "      <td>3.6</td>\n",
       "      <td>334216.939</td>\n",
       "      <td>1402.0</td>\n",
       "      <td>9.4</td>\n",
       "      <td>6.8050</td>\n",
       "      <td>298.598</td>\n",
       "      <td>26408.405</td>\n",
       "      <td>22267.7</td>\n",
       "      <td>298.269</td>\n",
       "    </tr>\n",
       "    <tr>\n",
       "      <th>2022-12-01</th>\n",
       "      <td>59.8</td>\n",
       "      <td>3.5</td>\n",
       "      <td>334356.155</td>\n",
       "      <td>1409.0</td>\n",
       "      <td>8.5</td>\n",
       "      <td>6.3640</td>\n",
       "      <td>298.990</td>\n",
       "      <td>26408.405</td>\n",
       "      <td>22312.3</td>\n",
       "      <td>297.413</td>\n",
       "    </tr>\n",
       "    <tr>\n",
       "      <th>2023-01-01</th>\n",
       "      <td>64.9</td>\n",
       "      <td>3.4</td>\n",
       "      <td>334483.547</td>\n",
       "      <td>1354.0</td>\n",
       "      <td>8.1</td>\n",
       "      <td>6.2725</td>\n",
       "      <td>300.536</td>\n",
       "      <td>26813.601</td>\n",
       "      <td>22525.3</td>\n",
       "      <td>297.030</td>\n",
       "    </tr>\n",
       "  </tbody>\n",
       "</table>\n",
       "<p>433 rows × 10 columns</p>\n",
       "</div>"
      ],
      "text/plain": [
       "            UMCSENT  UNRATE         POP  PERMIT  MSACSR  MORTGAGE30US  \\\n",
       "DATE                                                                    \n",
       "1987-01-01     90.4     6.6  241784.000  1690.0     6.0        9.2040   \n",
       "1987-02-01     90.2     6.6  241930.000  1689.0     6.2        9.0825   \n",
       "1987-03-01     90.8     6.6  242079.000  1704.0     6.0        9.0350   \n",
       "1987-04-01     92.8     6.3  242252.000  1601.0     6.0        9.8325   \n",
       "1987-05-01     91.1     6.3  242423.000  1500.0     6.7       10.5960   \n",
       "...             ...     ...         ...     ...     ...           ...   \n",
       "2022-09-01     58.6     3.5  333887.159  1588.0     9.7        6.1120   \n",
       "2022-10-01     59.9     3.7  334064.228  1555.0     9.7        6.9000   \n",
       "2022-11-01     56.7     3.6  334216.939  1402.0     9.4        6.8050   \n",
       "2022-12-01     59.8     3.5  334356.155  1409.0     8.5        6.3640   \n",
       "2023-01-01     64.9     3.4  334483.547  1354.0     8.1        6.2725   \n",
       "\n",
       "            CPIAUCSL        GDP       PI  CSUSHPISA  \n",
       "DATE                                                 \n",
       "1987-01-01   111.400   4722.156   3820.2     63.965  \n",
       "1987-02-01   111.800   4722.156   3845.0     64.424  \n",
       "1987-03-01   112.200   4722.156   3863.8     64.736  \n",
       "1987-04-01   112.700   4806.160   3875.4     65.132  \n",
       "1987-05-01   113.000   4806.160   3908.6     65.563  \n",
       "...              ...        ...      ...        ...  \n",
       "2022-09-01   296.539  25994.639  22121.5    299.353  \n",
       "2022-10-01   297.987  26408.405  22242.2    298.873  \n",
       "2022-11-01   298.598  26408.405  22267.7    298.269  \n",
       "2022-12-01   298.990  26408.405  22312.3    297.413  \n",
       "2023-01-01   300.536  26813.601  22525.3    297.030  \n",
       "\n",
       "[433 rows x 10 columns]"
      ]
     },
     "execution_count": 84,
     "metadata": {},
     "output_type": "execute_result"
    }
   ],
   "source": [
    "df"
   ]
  },
  {
   "cell_type": "code",
   "execution_count": 85,
   "id": "fe9bb4d6",
   "metadata": {},
   "outputs": [
    {
     "name": "stdout",
     "output_type": "stream",
     "text": [
      "<class 'pandas.core.frame.DataFrame'>\n",
      "DatetimeIndex: 433 entries, 1987-01-01 to 2023-01-01\n",
      "Data columns (total 10 columns):\n",
      " #   Column        Non-Null Count  Dtype  \n",
      "---  ------        --------------  -----  \n",
      " 0   UMCSENT       433 non-null    float64\n",
      " 1   UNRATE        433 non-null    float64\n",
      " 2   POP           433 non-null    float64\n",
      " 3   PERMIT        433 non-null    float64\n",
      " 4   MSACSR        433 non-null    float64\n",
      " 5   MORTGAGE30US  433 non-null    float64\n",
      " 6   CPIAUCSL      433 non-null    float64\n",
      " 7   GDP           433 non-null    float64\n",
      " 8   PI            433 non-null    float64\n",
      " 9   CSUSHPISA     433 non-null    float64\n",
      "dtypes: float64(10)\n",
      "memory usage: 37.2 KB\n"
     ]
    }
   ],
   "source": [
    "df.info()"
   ]
  },
  {
   "cell_type": "code",
   "execution_count": 86,
   "id": "91d7d091",
   "metadata": {},
   "outputs": [
    {
     "data": {
      "text/html": [
       "<div>\n",
       "<style scoped>\n",
       "    .dataframe tbody tr th:only-of-type {\n",
       "        vertical-align: middle;\n",
       "    }\n",
       "\n",
       "    .dataframe tbody tr th {\n",
       "        vertical-align: top;\n",
       "    }\n",
       "\n",
       "    .dataframe thead th {\n",
       "        text-align: right;\n",
       "    }\n",
       "</style>\n",
       "<table border=\"1\" class=\"dataframe\">\n",
       "  <thead>\n",
       "    <tr style=\"text-align: right;\">\n",
       "      <th></th>\n",
       "      <th>UMCSENT</th>\n",
       "      <th>UNRATE</th>\n",
       "      <th>POP</th>\n",
       "      <th>PERMIT</th>\n",
       "      <th>MSACSR</th>\n",
       "      <th>MORTGAGE30US</th>\n",
       "      <th>CPIAUCSL</th>\n",
       "      <th>GDP</th>\n",
       "      <th>PI</th>\n",
       "      <th>CSUSHPISA</th>\n",
       "    </tr>\n",
       "  </thead>\n",
       "  <tbody>\n",
       "    <tr>\n",
       "      <th>count</th>\n",
       "      <td>433.000000</td>\n",
       "      <td>433.000000</td>\n",
       "      <td>433.000000</td>\n",
       "      <td>433.000000</td>\n",
       "      <td>433.000000</td>\n",
       "      <td>433.000000</td>\n",
       "      <td>433.000000</td>\n",
       "      <td>433.000000</td>\n",
       "      <td>433.000000</td>\n",
       "      <td>433.000000</td>\n",
       "    </tr>\n",
       "    <tr>\n",
       "      <th>mean</th>\n",
       "      <td>86.668822</td>\n",
       "      <td>5.807852</td>\n",
       "      <td>292417.953607</td>\n",
       "      <td>1353.812933</td>\n",
       "      <td>5.875751</td>\n",
       "      <td>6.313021</td>\n",
       "      <td>194.262316</td>\n",
       "      <td>13044.654229</td>\n",
       "      <td>11010.244342</td>\n",
       "      <td>138.918898</td>\n",
       "    </tr>\n",
       "    <tr>\n",
       "      <th>std</th>\n",
       "      <td>12.653281</td>\n",
       "      <td>1.667717</td>\n",
       "      <td>28196.513906</td>\n",
       "      <td>393.280092</td>\n",
       "      <td>1.739835</td>\n",
       "      <td>2.186889</td>\n",
       "      <td>47.363480</td>\n",
       "      <td>5711.692366</td>\n",
       "      <td>5047.229361</td>\n",
       "      <td>57.609347</td>\n",
       "    </tr>\n",
       "    <tr>\n",
       "      <th>min</th>\n",
       "      <td>50.000000</td>\n",
       "      <td>3.400000</td>\n",
       "      <td>241784.000000</td>\n",
       "      <td>513.000000</td>\n",
       "      <td>3.300000</td>\n",
       "      <td>2.684000</td>\n",
       "      <td>111.400000</td>\n",
       "      <td>4722.156000</td>\n",
       "      <td>3820.200000</td>\n",
       "      <td>63.965000</td>\n",
       "    </tr>\n",
       "    <tr>\n",
       "      <th>25%</th>\n",
       "      <td>77.600000</td>\n",
       "      <td>4.600000</td>\n",
       "      <td>268151.000000</td>\n",
       "      <td>1082.000000</td>\n",
       "      <td>4.400000</td>\n",
       "      <td>4.300000</td>\n",
       "      <td>154.700000</td>\n",
       "      <td>7868.468000</td>\n",
       "      <td>6453.900000</td>\n",
       "      <td>81.834000</td>\n",
       "    </tr>\n",
       "    <tr>\n",
       "      <th>50%</th>\n",
       "      <td>89.800000</td>\n",
       "      <td>5.500000</td>\n",
       "      <td>294914.000000</td>\n",
       "      <td>1376.000000</td>\n",
       "      <td>5.500000</td>\n",
       "      <td>6.240000</td>\n",
       "      <td>191.700000</td>\n",
       "      <td>12767.286000</td>\n",
       "      <td>10282.700000</td>\n",
       "      <td>140.010000</td>\n",
       "    </tr>\n",
       "    <tr>\n",
       "      <th>75%</th>\n",
       "      <td>95.100000</td>\n",
       "      <td>6.600000</td>\n",
       "      <td>317519.206000</td>\n",
       "      <td>1626.000000</td>\n",
       "      <td>6.800000</td>\n",
       "      <td>7.860000</td>\n",
       "      <td>234.747000</td>\n",
       "      <td>17197.738000</td>\n",
       "      <td>14456.400000</td>\n",
       "      <td>177.274000</td>\n",
       "    </tr>\n",
       "    <tr>\n",
       "      <th>max</th>\n",
       "      <td>112.000000</td>\n",
       "      <td>14.700000</td>\n",
       "      <td>334483.547000</td>\n",
       "      <td>2263.000000</td>\n",
       "      <td>12.200000</td>\n",
       "      <td>11.260000</td>\n",
       "      <td>300.536000</td>\n",
       "      <td>26813.601000</td>\n",
       "      <td>24471.800000</td>\n",
       "      <td>304.724000</td>\n",
       "    </tr>\n",
       "  </tbody>\n",
       "</table>\n",
       "</div>"
      ],
      "text/plain": [
       "          UMCSENT      UNRATE            POP       PERMIT      MSACSR  \\\n",
       "count  433.000000  433.000000     433.000000   433.000000  433.000000   \n",
       "mean    86.668822    5.807852  292417.953607  1353.812933    5.875751   \n",
       "std     12.653281    1.667717   28196.513906   393.280092    1.739835   \n",
       "min     50.000000    3.400000  241784.000000   513.000000    3.300000   \n",
       "25%     77.600000    4.600000  268151.000000  1082.000000    4.400000   \n",
       "50%     89.800000    5.500000  294914.000000  1376.000000    5.500000   \n",
       "75%     95.100000    6.600000  317519.206000  1626.000000    6.800000   \n",
       "max    112.000000   14.700000  334483.547000  2263.000000   12.200000   \n",
       "\n",
       "       MORTGAGE30US    CPIAUCSL           GDP            PI   CSUSHPISA  \n",
       "count    433.000000  433.000000    433.000000    433.000000  433.000000  \n",
       "mean       6.313021  194.262316  13044.654229  11010.244342  138.918898  \n",
       "std        2.186889   47.363480   5711.692366   5047.229361   57.609347  \n",
       "min        2.684000  111.400000   4722.156000   3820.200000   63.965000  \n",
       "25%        4.300000  154.700000   7868.468000   6453.900000   81.834000  \n",
       "50%        6.240000  191.700000  12767.286000  10282.700000  140.010000  \n",
       "75%        7.860000  234.747000  17197.738000  14456.400000  177.274000  \n",
       "max       11.260000  300.536000  26813.601000  24471.800000  304.724000  "
      ]
     },
     "execution_count": 86,
     "metadata": {},
     "output_type": "execute_result"
    }
   ],
   "source": [
    "df.describe()"
   ]
  },
  {
   "cell_type": "markdown",
   "id": "7cd3c5a8",
   "metadata": {},
   "source": [
    "# Distribution of Numerical Columns"
   ]
  },
  {
   "cell_type": "code",
   "execution_count": 87,
   "id": "9dc00651",
   "metadata": {},
   "outputs": [
    {
     "data": {
      "text/plain": [
       "<Figure size 1200x600 with 0 Axes>"
      ]
     },
     "metadata": {},
     "output_type": "display_data"
    },
    {
     "data": {
      "text/plain": [
       "<Figure size 600x400 with 0 Axes>"
      ]
     },
     "metadata": {},
     "output_type": "display_data"
    },
    {
     "data": {
      "image/png": "[encoded data removed]",
      "text/plain": [
       "<Figure size 500x500 with 1 Axes>"
      ]
     },
     "metadata": {},
     "output_type": "display_data"
    },
    {
     "data": {
      "text/plain": [
       "<Figure size 600x400 with 0 Axes>"
      ]
     },
     "metadata": {},
     "output_type": "display_data"
    },
    {
     "data": {
      "image/png": "[encoded data removed]",
      "text/plain": [
       "<Figure size 500x500 with 1 Axes>"
      ]
     },
     "metadata": {},
     "output_type": "display_data"
    },
    {
     "data": {
      "text/plain": [
       "<Figure size 600x400 with 0 Axes>"
      ]
     },
     "metadata": {},
     "output_type": "display_data"
    },
    {
     "data": {
      "image/png": "[encoded data removed]",
      "text/plain": [
       "<Figure size 500x500 with 1 Axes>"
      ]
     },
     "metadata": {},
     "output_type": "display_data"
    },
    {
     "data": {
      "text/plain": [
       "<Figure size 600x400 with 0 Axes>"
      ]
     },
     "metadata": {},
     "output_type": "display_data"
    },
    {
     "data": {
      "image/png": "[encoded data removed]",
      "text/plain": [
       "<Figure size 500x500 with 1 Axes>"
      ]
     },
     "metadata": {},
     "output_type": "display_data"
    },
    {
     "data": {
      "text/plain": [
       "<Figure size 600x400 with 0 Axes>"
      ]
     },
     "metadata": {},
     "output_type": "display_data"
    },
    {
     "data": {
      "image/png": "[encoded data removed]",
      "text/plain": [
       "<Figure size 500x500 with 1 Axes>"
      ]
     },
     "metadata": {},
     "output_type": "display_data"
    },
    {
     "data": {
      "text/plain": [
       "<Figure size 600x400 with 0 Axes>"
      ]
     },
     "metadata": {},
     "output_type": "display_data"
    },
    {
     "data": {
      "image/png": "[encoded data removed]",
      "text/plain": [
       "<Figure size 500x500 with 1 Axes>"
      ]
     },
     "metadata": {},
     "output_type": "display_data"
    },
    {
     "data": {
      "text/plain": [
       "<Figure size 600x400 with 0 Axes>"
      ]
     },
     "metadata": {},
     "output_type": "display_data"
    },
    {
     "data": {
      "image/png": "[encoded data removed]",
      "text/plain": [
       "<Figure size 500x500 with 1 Axes>"
      ]
     },
     "metadata": {},
     "output_type": "display_data"
    },
    {
     "data": {
      "text/plain": [
       "<Figure size 600x400 with 0 Axes>"
      ]
     },
     "metadata": {},
     "output_type": "display_data"
    },
    {
     "data": {
      "image/png": "[encoded data removed]",
      "text/plain": [
       "<Figure size 500x500 with 1 Axes>"
      ]
     },
     "metadata": {},
     "output_type": "display_data"
    },
    {
     "data": {
      "text/plain": [
       "<Figure size 600x400 with 0 Axes>"
      ]
     },
     "metadata": {},
     "output_type": "display_data"
    },
    {
     "data": {
      "image/png": "[encoded data removed]",
      "text/plain": [
       "<Figure size 500x500 with 1 Axes>"
      ]
     },
     "metadata": {},
     "output_type": "display_data"
    },
    {
     "data": {
      "text/plain": [
       "<Figure size 600x400 with 0 Axes>"
      ]
     },
     "metadata": {},
     "output_type": "display_data"
    },
    {
     "data": {
      "image/png": "[encoded data removed]",
      "text/plain": [
       "<Figure size 500x500 with 1 Axes>"
      ]
     },
     "metadata": {},
     "output_type": "display_data"
    }
   ],
   "source": [
    "plt.figure(figsize=(12, 6))\n",
    "for col in df.columns.tolist():\n",
    "    plt.figure(figsize=(6, 4))\n",
    "    sns.displot(data=df, x=col,kde=True)\n",
    "    plt.xlabel(f\"{col}\")\n",
    "    plt.title(f'Distribution Plot for {col}')\n",
    "    plt.show()"
   ]
  },
  {
   "cell_type": "markdown",
   "id": "0384d607",
   "metadata": {},
   "source": [
    "# Checking outliers using boxplot"
   ]
  },
  {
   "cell_type": "code",
   "execution_count": 117,
   "id": "75816274",
   "metadata": {},
   "outputs": [
    {
     "data": {
      "text/plain": [
       "<Figure size 1200x600 with 0 Axes>"
      ]
     },
     "metadata": {},
     "output_type": "display_data"
    },
    {
     "data": {
      "image/png": "[encoded data removed]",
      "text/plain": [
       "<Figure size 600x400 with 1 Axes>"
      ]
     },
     "metadata": {},
     "output_type": "display_data"
    },
    {
     "data": {
      "image/png": "[encoded data removed]",
      "text/plain": [
       "<Figure size 600x400 with 1 Axes>"
      ]
     },
     "metadata": {},
     "output_type": "display_data"
    },
    {
     "data": {
      "image/png": "[encoded data removed]",
      "text/plain": [
       "<Figure size 600x400 with 1 Axes>"
      ]
     },
     "metadata": {},
     "output_type": "display_data"
    },
    {
     "data": {
      "image/png": "[encoded data removed]",
      "text/plain": [
       "<Figure size 600x400 with 1 Axes>"
      ]
     },
     "metadata": {},
     "output_type": "display_data"
    },
    {
     "data": {
      "image/png": "[encoded data removed]",
      "text/plain": [
       "<Figure size 600x400 with 1 Axes>"
      ]
     },
     "metadata": {},
     "output_type": "display_data"
    },
    {
     "data": {
      "image/png": "[encoded data removed]",
      "text/plain": [
       "<Figure size 600x400 with 1 Axes>"
      ]
     },
     "metadata": {},
     "output_type": "display_data"
    },
    {
     "data": {
      "image/png": "[encoded data removed]",
      "text/plain": [
       "<Figure size 600x400 with 1 Axes>"
      ]
     },
     "metadata": {},
     "output_type": "display_data"
    },
    {
     "data": {
      "image/png": "[encoded data removed]",
      "text/plain": [
       "<Figure size 600x400 with 1 Axes>"
      ]
     },
     "metadata": {},
     "output_type": "display_data"
    },
    {
     "data": {
      "image/png": "[encoded data removed]",
      "text/plain": [
       "<Figure size 600x400 with 1 Axes>"
      ]
     },
     "metadata": {},
     "output_type": "display_data"
    },
    {
     "data": {
      "image/png": "[encoded data removed]",
      "text/plain": [
       "<Figure size 600x400 with 1 Axes>"
      ]
     },
     "metadata": {},
     "output_type": "display_data"
    }
   ],
   "source": [
    "plt.figure(figsize=(12, 6))\n",
    "for col in df.columns:\n",
    "    plt.figure(figsize=(6, 4))\n",
    "    sns.boxplot(data=df, x=col)\n",
    "    plt.xlabel(f\"{col}\")\n",
    "    plt.title(f'Box Plot for {col}')\n",
    "    plt.show()"
   ]
  },
  {
   "cell_type": "markdown",
   "id": "3e37ba33",
   "metadata": {},
   "source": [
    "There are outliers in the following columns:\n",
    "    1 . Unemployment Rate\n",
    "    2 . Monthly Supply of New Houses in the United States."
   ]
  },
  {
   "cell_type": "code",
   "execution_count": 89,
   "id": "4b591fd0",
   "metadata": {},
   "outputs": [],
   "source": [
    "Q1 = df['MSACSR'].quantile(0.25)\n",
    "Q3 = df['MSACSR'].quantile(0.75)\n",
    "IQR = Q3 - Q1\n",
    "lower_threshold = Q1 - 1.5 * IQR\n",
    "upper_threshold = Q3 + 1.5 * IQR\n"
   ]
  },
  {
   "cell_type": "code",
   "execution_count": 90,
   "id": "a764ceaf",
   "metadata": {},
   "outputs": [],
   "source": [
    "df['MSACSR'].clip(lower=lower_threshold, upper=upper_threshold, inplace=True)"
   ]
  },
  {
   "cell_type": "code",
   "execution_count": 91,
   "id": "88ad87fb",
   "metadata": {},
   "outputs": [
    {
     "data": {
      "image/png": "[encoded data removed]",
      "text/plain": [
       "<Figure size 640x480 with 1 Axes>"
      ]
     },
     "metadata": {},
     "output_type": "display_data"
    }
   ],
   "source": [
    "plt.boxplot(df['MSACSR'], vert=False)\n",
    "plt.show()"
   ]
  },
  {
   "cell_type": "code",
   "execution_count": 92,
   "id": "dfebd5a1",
   "metadata": {},
   "outputs": [],
   "source": [
    "Q1 = df['UNRATE'].quantile(0.25)\n",
    "Q3 = df['UNRATE'].quantile(0.75)\n",
    "IQR = Q3 - Q1\n",
    "lower_v = Q1 - 1.5 * IQR\n",
    "upper_v = Q3 + 1.5 * IQR"
   ]
  },
  {
   "cell_type": "code",
   "execution_count": 93,
   "id": "8a834de2",
   "metadata": {},
   "outputs": [],
   "source": [
    "df['UNRATE'].clip(lower=lower_v, upper=upper_v, inplace=True)"
   ]
  },
  {
   "cell_type": "code",
   "execution_count": 94,
   "id": "49f6b2c8",
   "metadata": {},
   "outputs": [
    {
     "data": {
      "image/png": "[encoded data removed]",
      "text/plain": [
       "<Figure size 640x480 with 1 Axes>"
      ]
     },
     "metadata": {},
     "output_type": "display_data"
    }
   ],
   "source": [
    "plt.boxplot(df['UNRATE'],vert=False)\n",
    "plt.show()"
   ]
  },
  {
   "cell_type": "markdown",
   "id": "3e1363de",
   "metadata": {},
   "source": [
    "The outliers are clipped to nearest non-outlier values"
   ]
  },
  {
   "cell_type": "code",
   "execution_count": 95,
   "id": "68ecdc34",
   "metadata": {},
   "outputs": [
    {
     "data": {
      "text/html": [
       "<div>\n",
       "<style scoped>\n",
       "    .dataframe tbody tr th:only-of-type {\n",
       "        vertical-align: middle;\n",
       "    }\n",
       "\n",
       "    .dataframe tbody tr th {\n",
       "        vertical-align: top;\n",
       "    }\n",
       "\n",
       "    .dataframe thead th {\n",
       "        text-align: right;\n",
       "    }\n",
       "</style>\n",
       "<table border=\"1\" class=\"dataframe\">\n",
       "  <thead>\n",
       "    <tr style=\"text-align: right;\">\n",
       "      <th></th>\n",
       "      <th>UMCSENT</th>\n",
       "      <th>UNRATE</th>\n",
       "      <th>POP</th>\n",
       "      <th>PERMIT</th>\n",
       "      <th>MSACSR</th>\n",
       "      <th>MORTGAGE30US</th>\n",
       "      <th>CPIAUCSL</th>\n",
       "      <th>GDP</th>\n",
       "      <th>PI</th>\n",
       "      <th>CSUSHPISA</th>\n",
       "    </tr>\n",
       "    <tr>\n",
       "      <th>DATE</th>\n",
       "      <th></th>\n",
       "      <th></th>\n",
       "      <th></th>\n",
       "      <th></th>\n",
       "      <th></th>\n",
       "      <th></th>\n",
       "      <th></th>\n",
       "      <th></th>\n",
       "      <th></th>\n",
       "      <th></th>\n",
       "    </tr>\n",
       "  </thead>\n",
       "  <tbody>\n",
       "    <tr>\n",
       "      <th>1987-01-01</th>\n",
       "      <td>90.4</td>\n",
       "      <td>6.6</td>\n",
       "      <td>241784.000</td>\n",
       "      <td>1690.0</td>\n",
       "      <td>6.0</td>\n",
       "      <td>9.2040</td>\n",
       "      <td>111.400</td>\n",
       "      <td>4722.156</td>\n",
       "      <td>3820.2</td>\n",
       "      <td>63.965</td>\n",
       "    </tr>\n",
       "    <tr>\n",
       "      <th>1987-02-01</th>\n",
       "      <td>90.2</td>\n",
       "      <td>6.6</td>\n",
       "      <td>241930.000</td>\n",
       "      <td>1689.0</td>\n",
       "      <td>6.2</td>\n",
       "      <td>9.0825</td>\n",
       "      <td>111.800</td>\n",
       "      <td>4722.156</td>\n",
       "      <td>3845.0</td>\n",
       "      <td>64.424</td>\n",
       "    </tr>\n",
       "    <tr>\n",
       "      <th>1987-03-01</th>\n",
       "      <td>90.8</td>\n",
       "      <td>6.6</td>\n",
       "      <td>242079.000</td>\n",
       "      <td>1704.0</td>\n",
       "      <td>6.0</td>\n",
       "      <td>9.0350</td>\n",
       "      <td>112.200</td>\n",
       "      <td>4722.156</td>\n",
       "      <td>3863.8</td>\n",
       "      <td>64.736</td>\n",
       "    </tr>\n",
       "    <tr>\n",
       "      <th>1987-04-01</th>\n",
       "      <td>92.8</td>\n",
       "      <td>6.3</td>\n",
       "      <td>242252.000</td>\n",
       "      <td>1601.0</td>\n",
       "      <td>6.0</td>\n",
       "      <td>9.8325</td>\n",
       "      <td>112.700</td>\n",
       "      <td>4806.160</td>\n",
       "      <td>3875.4</td>\n",
       "      <td>65.132</td>\n",
       "    </tr>\n",
       "    <tr>\n",
       "      <th>1987-05-01</th>\n",
       "      <td>91.1</td>\n",
       "      <td>6.3</td>\n",
       "      <td>242423.000</td>\n",
       "      <td>1500.0</td>\n",
       "      <td>6.7</td>\n",
       "      <td>10.5960</td>\n",
       "      <td>113.000</td>\n",
       "      <td>4806.160</td>\n",
       "      <td>3908.6</td>\n",
       "      <td>65.563</td>\n",
       "    </tr>\n",
       "    <tr>\n",
       "      <th>...</th>\n",
       "      <td>...</td>\n",
       "      <td>...</td>\n",
       "      <td>...</td>\n",
       "      <td>...</td>\n",
       "      <td>...</td>\n",
       "      <td>...</td>\n",
       "      <td>...</td>\n",
       "      <td>...</td>\n",
       "      <td>...</td>\n",
       "      <td>...</td>\n",
       "    </tr>\n",
       "    <tr>\n",
       "      <th>2022-09-01</th>\n",
       "      <td>58.6</td>\n",
       "      <td>3.5</td>\n",
       "      <td>333887.159</td>\n",
       "      <td>1588.0</td>\n",
       "      <td>9.7</td>\n",
       "      <td>6.1120</td>\n",
       "      <td>296.539</td>\n",
       "      <td>25994.639</td>\n",
       "      <td>22121.5</td>\n",
       "      <td>299.353</td>\n",
       "    </tr>\n",
       "    <tr>\n",
       "      <th>2022-10-01</th>\n",
       "      <td>59.9</td>\n",
       "      <td>3.7</td>\n",
       "      <td>334064.228</td>\n",
       "      <td>1555.0</td>\n",
       "      <td>9.7</td>\n",
       "      <td>6.9000</td>\n",
       "      <td>297.987</td>\n",
       "      <td>26408.405</td>\n",
       "      <td>22242.2</td>\n",
       "      <td>298.873</td>\n",
       "    </tr>\n",
       "    <tr>\n",
       "      <th>2022-11-01</th>\n",
       "      <td>56.7</td>\n",
       "      <td>3.6</td>\n",
       "      <td>334216.939</td>\n",
       "      <td>1402.0</td>\n",
       "      <td>9.4</td>\n",
       "      <td>6.8050</td>\n",
       "      <td>298.598</td>\n",
       "      <td>26408.405</td>\n",
       "      <td>22267.7</td>\n",
       "      <td>298.269</td>\n",
       "    </tr>\n",
       "    <tr>\n",
       "      <th>2022-12-01</th>\n",
       "      <td>59.8</td>\n",
       "      <td>3.5</td>\n",
       "      <td>334356.155</td>\n",
       "      <td>1409.0</td>\n",
       "      <td>8.5</td>\n",
       "      <td>6.3640</td>\n",
       "      <td>298.990</td>\n",
       "      <td>26408.405</td>\n",
       "      <td>22312.3</td>\n",
       "      <td>297.413</td>\n",
       "    </tr>\n",
       "    <tr>\n",
       "      <th>2023-01-01</th>\n",
       "      <td>64.9</td>\n",
       "      <td>3.4</td>\n",
       "      <td>334483.547</td>\n",
       "      <td>1354.0</td>\n",
       "      <td>8.1</td>\n",
       "      <td>6.2725</td>\n",
       "      <td>300.536</td>\n",
       "      <td>26813.601</td>\n",
       "      <td>22525.3</td>\n",
       "      <td>297.030</td>\n",
       "    </tr>\n",
       "  </tbody>\n",
       "</table>\n",
       "<p>433 rows × 10 columns</p>\n",
       "</div>"
      ],
      "text/plain": [
       "            UMCSENT  UNRATE         POP  PERMIT  MSACSR  MORTGAGE30US  \\\n",
       "DATE                                                                    \n",
       "1987-01-01     90.4     6.6  241784.000  1690.0     6.0        9.2040   \n",
       "1987-02-01     90.2     6.6  241930.000  1689.0     6.2        9.0825   \n",
       "1987-03-01     90.8     6.6  242079.000  1704.0     6.0        9.0350   \n",
       "1987-04-01     92.8     6.3  242252.000  1601.0     6.0        9.8325   \n",
       "1987-05-01     91.1     6.3  242423.000  1500.0     6.7       10.5960   \n",
       "...             ...     ...         ...     ...     ...           ...   \n",
       "2022-09-01     58.6     3.5  333887.159  1588.0     9.7        6.1120   \n",
       "2022-10-01     59.9     3.7  334064.228  1555.0     9.7        6.9000   \n",
       "2022-11-01     56.7     3.6  334216.939  1402.0     9.4        6.8050   \n",
       "2022-12-01     59.8     3.5  334356.155  1409.0     8.5        6.3640   \n",
       "2023-01-01     64.9     3.4  334483.547  1354.0     8.1        6.2725   \n",
       "\n",
       "            CPIAUCSL        GDP       PI  CSUSHPISA  \n",
       "DATE                                                 \n",
       "1987-01-01   111.400   4722.156   3820.2     63.965  \n",
       "1987-02-01   111.800   4722.156   3845.0     64.424  \n",
       "1987-03-01   112.200   4722.156   3863.8     64.736  \n",
       "1987-04-01   112.700   4806.160   3875.4     65.132  \n",
       "1987-05-01   113.000   4806.160   3908.6     65.563  \n",
       "...              ...        ...      ...        ...  \n",
       "2022-09-01   296.539  25994.639  22121.5    299.353  \n",
       "2022-10-01   297.987  26408.405  22242.2    298.873  \n",
       "2022-11-01   298.598  26408.405  22267.7    298.269  \n",
       "2022-12-01   298.990  26408.405  22312.3    297.413  \n",
       "2023-01-01   300.536  26813.601  22525.3    297.030  \n",
       "\n",
       "[433 rows x 10 columns]"
      ]
     },
     "execution_count": 95,
     "metadata": {},
     "output_type": "execute_result"
    }
   ],
   "source": [
    "df"
   ]
  },
  {
   "cell_type": "code",
   "execution_count": 96,
   "id": "7ee8a768",
   "metadata": {},
   "outputs": [
    {
     "data": {
      "text/html": [
       "<div>\n",
       "<style scoped>\n",
       "    .dataframe tbody tr th:only-of-type {\n",
       "        vertical-align: middle;\n",
       "    }\n",
       "\n",
       "    .dataframe tbody tr th {\n",
       "        vertical-align: top;\n",
       "    }\n",
       "\n",
       "    .dataframe thead th {\n",
       "        text-align: right;\n",
       "    }\n",
       "</style>\n",
       "<table border=\"1\" class=\"dataframe\">\n",
       "  <thead>\n",
       "    <tr style=\"text-align: right;\">\n",
       "      <th></th>\n",
       "      <th>UMCSENT</th>\n",
       "      <th>UNRATE</th>\n",
       "      <th>POP</th>\n",
       "      <th>PERMIT</th>\n",
       "      <th>MSACSR</th>\n",
       "      <th>MORTGAGE30US</th>\n",
       "      <th>CPIAUCSL</th>\n",
       "      <th>GDP</th>\n",
       "      <th>PI</th>\n",
       "      <th>CSUSHPISA</th>\n",
       "    </tr>\n",
       "  </thead>\n",
       "  <tbody>\n",
       "    <tr>\n",
       "      <th>UMCSENT</th>\n",
       "      <td>1.000000</td>\n",
       "      <td>-0.551218</td>\n",
       "      <td>-0.267612</td>\n",
       "      <td>0.477786</td>\n",
       "      <td>-0.574125</td>\n",
       "      <td>0.244895</td>\n",
       "      <td>-0.330427</td>\n",
       "      <td>-0.299144</td>\n",
       "      <td>-0.300595</td>\n",
       "      <td>-0.334571</td>\n",
       "    </tr>\n",
       "    <tr>\n",
       "      <th>UNRATE</th>\n",
       "      <td>-0.551218</td>\n",
       "      <td>1.000000</td>\n",
       "      <td>-0.037571</td>\n",
       "      <td>-0.638479</td>\n",
       "      <td>0.154515</td>\n",
       "      <td>-0.126608</td>\n",
       "      <td>-0.059935</td>\n",
       "      <td>-0.123810</td>\n",
       "      <td>-0.103536</td>\n",
       "      <td>-0.212197</td>\n",
       "    </tr>\n",
       "    <tr>\n",
       "      <th>POP</th>\n",
       "      <td>-0.267612</td>\n",
       "      <td>-0.037571</td>\n",
       "      <td>1.000000</td>\n",
       "      <td>-0.091679</td>\n",
       "      <td>0.001405</td>\n",
       "      <td>-0.940791</td>\n",
       "      <td>0.988858</td>\n",
       "      <td>0.972840</td>\n",
       "      <td>0.966059</td>\n",
       "      <td>0.904531</td>\n",
       "    </tr>\n",
       "    <tr>\n",
       "      <th>PERMIT</th>\n",
       "      <td>0.477786</td>\n",
       "      <td>-0.638479</td>\n",
       "      <td>-0.091679</td>\n",
       "      <td>1.000000</td>\n",
       "      <td>-0.505810</td>\n",
       "      <td>0.129797</td>\n",
       "      <td>-0.097652</td>\n",
       "      <td>-0.048717</td>\n",
       "      <td>-0.048077</td>\n",
       "      <td>0.124657</td>\n",
       "    </tr>\n",
       "    <tr>\n",
       "      <th>MSACSR</th>\n",
       "      <td>-0.574125</td>\n",
       "      <td>0.154515</td>\n",
       "      <td>0.001405</td>\n",
       "      <td>-0.505810</td>\n",
       "      <td>1.000000</td>\n",
       "      <td>0.162003</td>\n",
       "      <td>0.064642</td>\n",
       "      <td>0.071231</td>\n",
       "      <td>0.057841</td>\n",
       "      <td>0.138368</td>\n",
       "    </tr>\n",
       "    <tr>\n",
       "      <th>MORTGAGE30US</th>\n",
       "      <td>0.244895</td>\n",
       "      <td>-0.126608</td>\n",
       "      <td>-0.940791</td>\n",
       "      <td>0.129797</td>\n",
       "      <td>0.162003</td>\n",
       "      <td>1.000000</td>\n",
       "      <td>-0.907776</td>\n",
       "      <td>-0.877541</td>\n",
       "      <td>-0.875907</td>\n",
       "      <td>-0.774355</td>\n",
       "    </tr>\n",
       "    <tr>\n",
       "      <th>CPIAUCSL</th>\n",
       "      <td>-0.330427</td>\n",
       "      <td>-0.059935</td>\n",
       "      <td>0.988858</td>\n",
       "      <td>-0.097652</td>\n",
       "      <td>0.064642</td>\n",
       "      <td>-0.907776</td>\n",
       "      <td>1.000000</td>\n",
       "      <td>0.992205</td>\n",
       "      <td>0.986173</td>\n",
       "      <td>0.937910</td>\n",
       "    </tr>\n",
       "    <tr>\n",
       "      <th>GDP</th>\n",
       "      <td>-0.299144</td>\n",
       "      <td>-0.123810</td>\n",
       "      <td>0.972840</td>\n",
       "      <td>-0.048717</td>\n",
       "      <td>0.071231</td>\n",
       "      <td>-0.877541</td>\n",
       "      <td>0.992205</td>\n",
       "      <td>1.000000</td>\n",
       "      <td>0.995880</td>\n",
       "      <td>0.958090</td>\n",
       "    </tr>\n",
       "    <tr>\n",
       "      <th>PI</th>\n",
       "      <td>-0.300595</td>\n",
       "      <td>-0.103536</td>\n",
       "      <td>0.966059</td>\n",
       "      <td>-0.048077</td>\n",
       "      <td>0.057841</td>\n",
       "      <td>-0.875907</td>\n",
       "      <td>0.986173</td>\n",
       "      <td>0.995880</td>\n",
       "      <td>1.000000</td>\n",
       "      <td>0.953354</td>\n",
       "    </tr>\n",
       "    <tr>\n",
       "      <th>CSUSHPISA</th>\n",
       "      <td>-0.334571</td>\n",
       "      <td>-0.212197</td>\n",
       "      <td>0.904531</td>\n",
       "      <td>0.124657</td>\n",
       "      <td>0.138368</td>\n",
       "      <td>-0.774355</td>\n",
       "      <td>0.937910</td>\n",
       "      <td>0.958090</td>\n",
       "      <td>0.953354</td>\n",
       "      <td>1.000000</td>\n",
       "    </tr>\n",
       "  </tbody>\n",
       "</table>\n",
       "</div>"
      ],
      "text/plain": [
       "               UMCSENT    UNRATE       POP    PERMIT    MSACSR  MORTGAGE30US  \\\n",
       "UMCSENT       1.000000 -0.551218 -0.267612  0.477786 -0.574125      0.244895   \n",
       "UNRATE       -0.551218  1.000000 -0.037571 -0.638479  0.154515     -0.126608   \n",
       "POP          -0.267612 -0.037571  1.000000 -0.091679  0.001405     -0.940791   \n",
       "PERMIT        0.477786 -0.638479 -0.091679  1.000000 -0.505810      0.129797   \n",
       "MSACSR       -0.574125  0.154515  0.001405 -0.505810  1.000000      0.162003   \n",
       "MORTGAGE30US  0.244895 -0.126608 -0.940791  0.129797  0.162003      1.000000   \n",
       "CPIAUCSL     -0.330427 -0.059935  0.988858 -0.097652  0.064642     -0.907776   \n",
       "GDP          -0.299144 -0.123810  0.972840 -0.048717  0.071231     -0.877541   \n",
       "PI           -0.300595 -0.103536  0.966059 -0.048077  0.057841     -0.875907   \n",
       "CSUSHPISA    -0.334571 -0.212197  0.904531  0.124657  0.138368     -0.774355   \n",
       "\n",
       "              CPIAUCSL       GDP        PI  CSUSHPISA  \n",
       "UMCSENT      -0.330427 -0.299144 -0.300595  -0.334571  \n",
       "UNRATE       -0.059935 -0.123810 -0.103536  -0.212197  \n",
       "POP           0.988858  0.972840  0.966059   0.904531  \n",
       "PERMIT       -0.097652 -0.048717 -0.048077   0.124657  \n",
       "MSACSR        0.064642  0.071231  0.057841   0.138368  \n",
       "MORTGAGE30US -0.907776 -0.877541 -0.875907  -0.774355  \n",
       "CPIAUCSL      1.000000  0.992205  0.986173   0.937910  \n",
       "GDP           0.992205  1.000000  0.995880   0.958090  \n",
       "PI            0.986173  0.995880  1.000000   0.953354  \n",
       "CSUSHPISA     0.937910  0.958090  0.953354   1.000000  "
      ]
     },
     "execution_count": 96,
     "metadata": {},
     "output_type": "execute_result"
    }
   ],
   "source": [
    "df.corr()"
   ]
  },
  {
   "cell_type": "markdown",
   "id": "1adf163f",
   "metadata": {},
   "source": [
    "# Lasso Regularization"
   ]
  },
  {
   "cell_type": "markdown",
   "id": "59b7c21b",
   "metadata": {},
   "source": [
    "Since there is high correlation between the features, we try to shrink some coefficients to zero, effectively removing highly correlated features."
   ]
  },
  {
   "cell_type": "code",
   "execution_count": 97,
   "id": "8c05b2f8",
   "metadata": {},
   "outputs": [],
   "source": [
    "from sklearn.model_selection import train_test_split, cross_val_score\n",
    "from sklearn.linear_model import LassoCV\n",
    "from sklearn.metrics import mean_squared_error, r2_score"
   ]
  },
  {
   "cell_type": "code",
   "execution_count": 98,
   "id": "238f669f",
   "metadata": {},
   "outputs": [],
   "source": [
    "X = df.drop(columns=['CSUSHPISA'], axis=1)\n",
    "y = df.CSUSHPISA"
   ]
  },
  {
   "cell_type": "code",
   "execution_count": 99,
   "id": "70c1e01d",
   "metadata": {},
   "outputs": [],
   "source": [
    "X_train, X_test, y_train, y_test = train_test_split(X, y, test_size=0.3, random_state=40)"
   ]
  },
  {
   "cell_type": "code",
   "execution_count": 100,
   "id": "037b8a01",
   "metadata": {},
   "outputs": [],
   "source": [
    "from sklearn.preprocessing import StandardScaler"
   ]
  },
  {
   "cell_type": "code",
   "execution_count": 101,
   "id": "3896c179",
   "metadata": {},
   "outputs": [],
   "source": [
    "scaler = StandardScaler()\n",
    "X_train = scaler.fit_transform(X_train)\n",
    "X_test = scaler.transform(X_test)"
   ]
  },
  {
   "cell_type": "code",
   "execution_count": 102,
   "id": "c3974c19",
   "metadata": {},
   "outputs": [],
   "source": [
    "model1 = LassoCV(alphas=np.logspace(-4, 4, 100),cv=5)\n",
    "\n",
    "model1.fit(X_train, y_train)\n",
    "\n",
    "pred1 = model1.predict(X_test)"
   ]
  },
  {
   "cell_type": "code",
   "execution_count": 103,
   "id": "78e49c7d",
   "metadata": {},
   "outputs": [
    {
     "data": {
      "text/plain": [
       "47.28327462475178"
      ]
     },
     "execution_count": 103,
     "metadata": {},
     "output_type": "execute_result"
    }
   ],
   "source": [
    "mse = mean_squared_error(y_test,pred1)\n",
    "mse"
   ]
  },
  {
   "cell_type": "code",
   "execution_count": 104,
   "id": "313ef7e1",
   "metadata": {},
   "outputs": [
    {
     "data": {
      "text/plain": [
       "6.87628348926597"
      ]
     },
     "execution_count": 104,
     "metadata": {},
     "output_type": "execute_result"
    }
   ],
   "source": [
    "rmse = np.sqrt(mse)\n",
    "rmse"
   ]
  },
  {
   "cell_type": "code",
   "execution_count": 105,
   "id": "9e904219",
   "metadata": {},
   "outputs": [
    {
     "data": {
      "text/plain": [
       "0.9865252878412285"
      ]
     },
     "execution_count": 105,
     "metadata": {},
     "output_type": "execute_result"
    }
   ],
   "source": [
    "r2 = r2_score(y_test, pred1)\n",
    "r2"
   ]
  },
  {
   "cell_type": "code",
   "execution_count": 106,
   "id": "2292823c",
   "metadata": {},
   "outputs": [
    {
     "name": "stdout",
     "output_type": "stream",
     "text": [
      "             Actual   Predicted\n",
      "DATE                           \n",
      "2016-02-01  177.649  175.999216\n",
      "2022-05-01  303.762  298.030544\n",
      "1987-10-01   67.739   73.224679\n",
      "2004-12-01  159.330  152.951990\n",
      "1998-04-01   88.879   87.337043\n",
      "...             ...         ...\n",
      "2013-08-01  156.965  158.181113\n",
      "1995-11-01   81.619   96.903568\n",
      "1989-04-01   75.086   77.196145\n",
      "1998-11-01   92.199   95.803689\n",
      "2011-09-01  138.668  145.501540\n",
      "\n",
      "[130 rows x 2 columns]\n"
     ]
    }
   ],
   "source": [
    "a = pd.DataFrame({'Actual': y_test, 'Predicted': pred1})\n",
    "print(a)"
   ]
  },
  {
   "cell_type": "code",
   "execution_count": 107,
   "id": "82ecb23e",
   "metadata": {},
   "outputs": [
    {
     "data": {
      "image/png": "[encoded data removed]",
      "text/plain": [
       "<Figure size 800x600 with 1 Axes>"
      ]
     },
     "metadata": {},
     "output_type": "display_data"
    }
   ],
   "source": [
    "plt.figure(figsize=(8, 6))\n",
    "plt.scatter(y_test, pred1, alpha=0.5)\n",
    "plt.xlabel(\"Observed\")\n",
    "plt.ylabel(\"Predicted\")\n",
    "plt.title(\"Predicted vs. Observed Values\")\n",
    "plt.grid(True)"
   ]
  },
  {
   "cell_type": "markdown",
   "id": "5f199ffa",
   "metadata": {},
   "source": [
    "# Ridge Regularization"
   ]
  },
  {
   "cell_type": "markdown",
   "id": "3f9d2839",
   "metadata": {},
   "source": [
    "Does not shrink coefficients to zero, so all features are retained. There is high correlation across all features."
   ]
  },
  {
   "cell_type": "code",
   "execution_count": 108,
   "id": "ca45b9c8",
   "metadata": {},
   "outputs": [],
   "source": [
    "from sklearn.linear_model import Ridge"
   ]
  },
  {
   "cell_type": "code",
   "execution_count": 109,
   "id": "d86dbf11",
   "metadata": {},
   "outputs": [],
   "source": [
    "X = df.drop(columns=['CSUSHPISA'], axis=1)\n",
    "y = df.CSUSHPISA"
   ]
  },
  {
   "cell_type": "code",
   "execution_count": 110,
   "id": "51582aaa",
   "metadata": {},
   "outputs": [],
   "source": [
    "X_train, X_test, y_train, y_test = train_test_split(X, y, test_size=0.2)"
   ]
  },
  {
   "cell_type": "code",
   "execution_count": 111,
   "id": "78429bab",
   "metadata": {},
   "outputs": [],
   "source": [
    "model2 = Ridge(alpha=1.0)"
   ]
  },
  {
   "cell_type": "code",
   "execution_count": 112,
   "id": "e55db898",
   "metadata": {},
   "outputs": [
    {
     "data": {
      "text/html": [
       "<style>#sk-container-id-1 {color: black;background-color: white;}#sk-container-id-1 pre{padding: 0;}#sk-container-id-1 div.sk-toggleable {background-color: white;}#sk-container-id-1 label.sk-toggleable__label {cursor: pointer;display: block;width: 100%;margin-bottom: 0;padding: 0.3em;box-sizing: border-box;text-align: center;}#sk-container-id-1 label.sk-toggleable__label-arrow:before {content: \"▸\";float: left;margin-right: 0.25em;color: #696969;}#sk-container-id-1 label.sk-toggleable__label-arrow:hover:before {color: black;}#sk-container-id-1 div.sk-estimator:hover label.sk-toggleable__label-arrow:before {color: black;}#sk-container-id-1 div.sk-toggleable__content {max-height: 0;max-width: 0;overflow: hidden;text-align: left;background-color: #f0f8ff;}#sk-container-id-1 div.sk-toggleable__content pre {margin: 0.2em;color: black;border-radius: 0.25em;background-color: #f0f8ff;}#sk-container-id-1 input.sk-toggleable__control:checked~div.sk-toggleable__content {max-height: 200px;max-width: 100%;overflow: auto;}#sk-container-id-1 input.sk-toggleable__control:checked~label.sk-toggleable__label-arrow:before {content: \"▾\";}#sk-container-id-1 div.sk-estimator input.sk-toggleable__control:checked~label.sk-toggleable__label {background-color: #d4ebff;}#sk-container-id-1 div.sk-label input.sk-toggleable__control:checked~label.sk-toggleable__label {background-color: #d4ebff;}#sk-container-id-1 input.sk-hidden--visually {border: 0;clip: rect(1px 1px 1px 1px);clip: rect(1px, 1px, 1px, 1px);height: 1px;margin: -1px;overflow: hidden;padding: 0;position: absolute;width: 1px;}#sk-container-id-1 div.sk-estimator {font-family: monospace;background-color: #f0f8ff;border: 1px dotted black;border-radius: 0.25em;box-sizing: border-box;margin-bottom: 0.5em;}#sk-container-id-1 div.sk-estimator:hover {background-color: #d4ebff;}#sk-container-id-1 div.sk-parallel-item::after {content: \"\";width: 100%;border-bottom: 1px solid gray;flex-grow: 1;}#sk-container-id-1 div.sk-label:hover label.sk-toggleable__label {background-color: #d4ebff;}#sk-container-id-1 div.sk-serial::before {content: \"\";position: absolute;border-left: 1px solid gray;box-sizing: border-box;top: 0;bottom: 0;left: 50%;z-index: 0;}#sk-container-id-1 div.sk-serial {display: flex;flex-direction: column;align-items: center;background-color: white;padding-right: 0.2em;padding-left: 0.2em;position: relative;}#sk-container-id-1 div.sk-item {position: relative;z-index: 1;}#sk-container-id-1 div.sk-parallel {display: flex;align-items: stretch;justify-content: center;background-color: white;position: relative;}#sk-container-id-1 div.sk-item::before, #sk-container-id-1 div.sk-parallel-item::before {content: \"\";position: absolute;border-left: 1px solid gray;box-sizing: border-box;top: 0;bottom: 0;left: 50%;z-index: -1;}#sk-container-id-1 div.sk-parallel-item {display: flex;flex-direction: column;z-index: 1;position: relative;background-color: white;}#sk-container-id-1 div.sk-parallel-item:first-child::after {align-self: flex-end;width: 50%;}#sk-container-id-1 div.sk-parallel-item:last-child::after {align-self: flex-start;width: 50%;}#sk-container-id-1 div.sk-parallel-item:only-child::after {width: 0;}#sk-container-id-1 div.sk-dashed-wrapped {border: 1px dashed gray;margin: 0 0.4em 0.5em 0.4em;box-sizing: border-box;padding-bottom: 0.4em;background-color: white;}#sk-container-id-1 div.sk-label label {font-family: monospace;font-weight: bold;display: inline-block;line-height: 1.2em;}#sk-container-id-1 div.sk-label-container {text-align: center;}#sk-container-id-1 div.sk-container {/* jupyter's `normalize.less` sets `[hidden] { display: none; }` but bootstrap.min.css set `[hidden] { display: none !important; }` so we also need the `!important` here to be able to override the default hidden behavior on the sphinx rendered scikit-learn.org. See: https://github.com/scikit-learn/scikit-learn/issues/21755 */display: inline-block !important;position: relative;}#sk-container-id-1 div.sk-text-repr-fallback {display: none;}</style><div id=\"sk-container-id-1\" class=\"sk-top-container\"><div class=\"sk-text-repr-fallback\"><pre>Ridge()</pre><b>In a Jupyter environment, please rerun this cell to show the HTML representation or trust the notebook. <br />On GitHub, the HTML representation is unable to render, please try loading this page with nbviewer.org.</b></div><div class=\"sk-container\" hidden><div class=\"sk-item\"><div class=\"sk-estimator sk-toggleable\"><input class=\"sk-toggleable__control sk-hidden--visually\" id=\"sk-estimator-id-1\" type=\"checkbox\" checked><label for=\"sk-estimator-id-1\" class=\"sk-toggleable__label sk-toggleable__label-arrow\">Ridge</label><div class=\"sk-toggleable__content\"><pre>Ridge()</pre></div></div></div></div></div>"
      ],
      "text/plain": [
       "Ridge()"
      ]
     },
     "execution_count": 112,
     "metadata": {},
     "output_type": "execute_result"
    }
   ],
   "source": [
    "model2.fit(X_train, y_train)"
   ]
  },
  {
   "cell_type": "code",
   "execution_count": 113,
   "id": "bb50c434",
   "metadata": {},
   "outputs": [],
   "source": [
    "y_pred = model2.predict(X_test)"
   ]
  },
  {
   "cell_type": "code",
   "execution_count": 114,
   "id": "8dc3aed3",
   "metadata": {},
   "outputs": [
    {
     "data": {
      "text/plain": [
       "0.9896538871345144"
      ]
     },
     "execution_count": 114,
     "metadata": {},
     "output_type": "execute_result"
    }
   ],
   "source": [
    "r2 = r2_score(y_test, y_pred)\n",
    "r2"
   ]
  },
  {
   "cell_type": "code",
   "execution_count": 115,
   "id": "5ffe295b",
   "metadata": {},
   "outputs": [
    {
     "name": "stdout",
     "output_type": "stream",
     "text": [
      "             Actual   Predicted\n",
      "DATE                           \n",
      "1987-04-01   65.132   72.692826\n",
      "2000-11-01  108.302  106.129308\n",
      "2008-09-01  160.308  165.490590\n",
      "1988-06-01   70.889   70.433557\n",
      "1994-08-01   79.781   86.298580\n",
      "...             ...         ...\n",
      "1987-07-01   66.507   73.459983\n",
      "2016-03-01  178.164  173.888502\n",
      "2010-08-01  143.916  152.699569\n",
      "2004-01-01  141.646  137.259691\n",
      "2005-09-01  176.438  179.005902\n",
      "\n",
      "[87 rows x 2 columns]\n"
     ]
    }
   ],
   "source": [
    "b = pd.DataFrame({'Actual': y_test, 'Predicted': y_pred})\n",
    "print(b)"
   ]
  },
  {
   "cell_type": "code",
   "execution_count": 116,
   "id": "390d8ca2",
   "metadata": {},
   "outputs": [
    {
     "data": {
      "image/png": "[encoded data removed]",
      "text/plain": [
       "<Figure size 800x600 with 1 Axes>"
      ]
     },
     "metadata": {},
     "output_type": "display_data"
    }
   ],
   "source": [
    "plt.figure(figsize=(8, 6))\n",
    "plt.scatter(y_test, y_pred, alpha=0.5)\n",
    "plt.xlabel(\"Observed\")\n",
    "plt.ylabel(\"Predicted\")\n",
    "plt.title(\"Predicted vs. Observed Values\")\n",
    "plt.grid(True)"
   ]
  },
  {
   "cell_type": "markdown",
   "id": "8c0a825d",
   "metadata": {},
   "source": [
    "By evaluating the perfomance of two models we came to a conclusion that Ridge regularization model performs slightly better than Lazzo regularization model."
   ]
  },
  {
   "cell_type": "markdown",
   "id": "6cd71901",
   "metadata": {},
   "source": [
    "There are few features which influence the house price index more, they are : Population, GDP, Personal Income,  Consumer Price Index."
   ]
  }
 ],
 "metadata": {
  "kernelspec": {
   "display_name": "Python 3",
   "language": "python",
   "name": "python3"
  },
  "language_info": {
   "codemirror_mode": {
    "name": "ipython",
    "version": 3
   },
   "file_extension": ".py",
   "mimetype": "text/x-python",
   "name": "python",
   "nbconvert_exporter": "python",
   "pygments_lexer": "ipython3",
   "version": "3.10.9"
  }
 },
 "nbformat": 4,
 "nbformat_minor": 5
}
